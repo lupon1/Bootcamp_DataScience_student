{
 "cells": [
  {
   "cell_type": "markdown",
   "metadata": {},
   "source": [
    "# Week5 - Ejercicios para practicar\n",
    "\n",
    "A continuación encontraréis un conjunto de problemas que os pueden servir para practicar los conceptos explicados en esta unidad. Os recomendamos que intentéis realizar estos problemas vosotros mismos y que, una vez realizados, comparéis la solución que proponemos con vuestra solución. No dudéis en dirigir todas las dudas que surjan de la resolución de estos ejercicios, o de las soluciones propuestas, al foro del aula.\n",
    "\n",
    "1. Cread un código que permita monitorizar el consumo de memoria RAM de la máquina en la que se ejecute. El código guardará los datos de la memoria total y utilizada del sistema durante un periodo de tiempo, capturando los datos en intervalos periódicos.\n",
    "\n",
    "Estos datos se guardarán en archivos de texto, utilizando un fichero para los datos capturados en cada momento. Así, dentro de la carpeta de datos, habrá una carpeta para los datos de cada día (que tendrá por nombre el año, el mes y el día, escritos seguidos, por ejemplo, `20200318`). Dentro de la carpeta de cada día, habrá un archivo para cada instante de tiempo en el que se hayan obtenido datos (que tendrá por nombre la hora, el minuto y el segundo, separados por guiones bajos, por ejemplo, `14_45_55`). El contenido del archivo serán los dos valores (memoria total y utilizada) separados por comas (por ejemplo, `15571, 4242`).\n",
    "\n",
    "Cread también el código que permita recuperar todos los datos almacenados y obtener una descripción estadística básica (media, mediana y desviación estándar).\n",
    "\n",
    "Para ello, implementaremos una serie de funciones que se detallan a continuación.\n",
    "\n",
    "1.1. Cread una función que reciba como parámetro el nombre de una carpeta (que será `mem_data` por defecto) y cree las carpetas necesarias para almacenar datos para el día actual. Es decir, el código deberá crear, si no existe ya, una carpeta de datos con el nombre que ha recibido como parámetro (o usar `mem_data` si no se ha especificado ningún nombre), y otra carpeta dentro de esta que tenga por nombre el día actual (en el formato año de 4 cifras, mes de 2 cifras, día de 2 cifras, seguidos sin separadores, por ejemplo, `20200318`)."
   ]
  },
  {
   "cell_type": "code",
   "execution_count": 12,
   "metadata": {},
   "outputs": [],
   "source": [
    "# Importo las librerias necesarias\n",
    "import os, psutil, datetime, time, re, tarfile"
   ]
  },
  {
   "cell_type": "code",
   "execution_count": 13,
   "metadata": {},
   "outputs": [],
   "source": [
    "# Respuesta\n",
    "def create_folder(folderName='mem_data'):\n",
    "    try:\n",
    "        # Para saber la ruta absoluta desde .py\n",
    "        actualFolder = os.path.dirname(__file__)\n",
    "    except:\n",
    "        # Para saber el directorio absoluto desde .ipynb\n",
    "        actualFolder = os.path.abspath('')\n",
    "    folder = os.path.join(actualFolder, folderName)\n",
    "    def create_sub_folder():\n",
    "        today = datetime.date.today().strftime('%Y%m%d')\n",
    "        subFolderName = os.path.join(folder, today)\n",
    "        if os.path.isdir(subFolderName) == False:\n",
    "            os.mkdir(subFolderName)\n",
    "        return subFolderName\n",
    "    try:        \n",
    "        if os.path.isdir(folder) == False:\n",
    "            os.mkdir(folder)\n",
    "            subFolderName = create_sub_folder()\n",
    "        else:\n",
    "            subFolderName = create_sub_folder()\n",
    "        return subFolderName\n",
    "    except:\n",
    "        return False"
   ]
  },
  {
   "cell_type": "markdown",
   "metadata": {},
   "source": [
    "1.2. Implementad una función que reciba como parámetro el *path* con la carpeta de la fecha actual (que se ha creado en el apartado anterior) y escriba un fichero con los datos de consumo de memoria del sistema actuales. El archivo debe tener por nombre la hora actual (en el formato `hora_minuto_segundo`, con los ítems separados por guiones bajos, por ejemplo,` 14_45_55`). El contenido del archivo serán los dos valores (memoria total y utilizada) en megabytes separados por comas (por ejemplo, `15571, 4242`).\n",
    "\n",
    "Para obtener los datos del consumo de memoria, recordad que podéis ejecutar comandos del sistema con el módulo `subprocess` (seguramente necesitaréis buscar información sobre cómo obtener estos datos con comandos de *unix*)."
   ]
  },
  {
   "cell_type": "code",
   "execution_count": 14,
   "metadata": {},
   "outputs": [],
   "source": [
    "# Respuesta\n",
    "def create_file(folder):\n",
    "    if folder == False: return False\n",
    "    now = datetime.datetime.now().strftime('%H_%M_%S')\n",
    "    fileName = str(now) + '.log'\n",
    "    fileName = os.path.join(folder, fileName)\n",
    "    # Recupero las informaciones de la memoria\n",
    "    memUso = int(psutil.virtual_memory()[3]/1024**2) # memoria en uso en MB\n",
    "    memTot = int(psutil.virtual_memory()[0]/1024**2) # memoria total en MB\n",
    "    # Creo el fichero\n",
    "    try:\n",
    "        with open(fileName, 'w') as f:\n",
    "            f.write(f'{memUso}, {memTot}')\n",
    "    except:\n",
    "        return False"
   ]
  },
  {
   "cell_type": "markdown",
   "metadata": {},
   "source": [
    "1.3. Implementad una función que reciba como parámetros el número de muestras que capturar y el intervalo de tiempo entre cada una de las muestras (en segundos), y que capture los datos del consumo de memoria tantas veces como se haya especificado, esperando el tiempo indicado entre capturas. La función hará uso de las dos funciones definidas anteriormente.\n"
   ]
  },
  {
   "cell_type": "code",
   "execution_count": 15,
   "metadata": {},
   "outputs": [],
   "source": [
    "# Respuesta\n",
    "def capture(interval, n_shot):\n",
    "    print('Start...')\n",
    "    count = 0\n",
    "    intervalTime = time.time()\n",
    "    while count < n_shot:\n",
    "        nowTime = time.time()\n",
    "        if nowTime >= intervalTime:\n",
    "            result = create_file(create_folder())\n",
    "            if result != False:\n",
    "                count += 1\n",
    "                intervalTime = nowTime + interval\n",
    "        time.sleep(0.05)\n",
    "    print('Finish!')"
   ]
  },
  {
   "cell_type": "markdown",
   "metadata": {},
   "source": [
    "1.4. Llamad a la función definida en el apartado 1.3 y capturad 20 muestras de consumo de memoria, utilizando un intervalo de 3 segundos entre cada captura."
   ]
  },
  {
   "cell_type": "code",
   "execution_count": 16,
   "metadata": {},
   "outputs": [],
   "source": [
    "# Respuesta\n",
    "# capture(3, 20)"
   ]
  },
  {
   "cell_type": "markdown",
   "metadata": {},
   "source": [
    "1.5. Implementad una función que lea todos los datos que se han capturado, almacenados en una carpeta que recibirá como parámetro (y que, de nuevo, tomará como valor por defecto `mem_data`), y que muestre los siguientes datos:\n",
    "* El número de muestras leídas.\n",
    "* La media de la memoria total y utilizada.\n",
    "* La mediana de la memoria total y utilizada.\n",
    "* La desviación estándar de la memoria total y utilizada.\n",
    "* La fecha y hora de la primera y última capturas de las que tenemos datos.\n",
    "\n",
    "Llamad a la función anterior para obtener un resumen de los datos capturados."
   ]
  },
  {
   "cell_type": "code",
   "execution_count": 17,
   "metadata": {},
   "outputs": [
    {
     "name": "stdout",
     "output_type": "stream",
     "text": [
      "Número de muestras leídas: 100\n",
      "La media de la memoria total es: 14205 MB\n",
      "La media de la memoria utilizada es: 10381 MB\n",
      "La mediana de la memoria total es 14205 MB\n",
      "La mediana de la memoria utilizada es 10470 MB\n",
      "La desviación típica de la memoria total es: 0 MB\n",
      "La desviación típica de la memoria utilizada es: 478 MB\n",
      "La primera captura es del 22/11/2021 a las 13:47:20\n",
      "La última captura es del 26/11/2021 a las 10:04:03\n"
     ]
    }
   ],
   "source": [
    "# Respuesta\n",
    "def logger_reader(folderName='mem_data'):\n",
    "    # Declaración variables\n",
    "    fileExtension = 'log'\n",
    "    fileFormat = re.compile('.._.._...' + fileExtension)\n",
    "    memUso = [] # Un array para compilar con los datos de todas las lecturas de la memoria en uso\n",
    "    memTot = [] # Un array para compilar con los datos de todas las lecturas de la memoria total\n",
    "    # Variables para almacenar las capturas más antiguas y más recientes\n",
    "    first = '20501212235959'\n",
    "    last = '0'\n",
    "\n",
    "    # Obtengo la ruta absoluta de la carpeta en que estamos trabajando\n",
    "    try:\n",
    "        # Para saber la ruta absoluta desde .py\n",
    "        actualFolder = os.path.dirname(__file__)\n",
    "    except:\n",
    "        # Para saber el directorio absoluto desde .ipynb\n",
    "        actualFolder = os.path.abspath('')\n",
    "    folder = os.path.join(actualFolder, folderName)\n",
    "    \n",
    "    # Compruebo que la carpeta exista\n",
    "    if os.path.isdir(folder) == False:\n",
    "        print(f'La carpeta {folder} no existe')\n",
    "    else:\n",
    "        # Escaneo todas las carpetas y files en mem_data\n",
    "        with os.scandir(folder) as dir_list:\n",
    "            for dir in dir_list:\n",
    "                # Compruebo si es una carpeta\n",
    "                if os.path.isdir(dir):\n",
    "                    # Si es una carpeta, actualizo la variable subFolder con la ruta absoluta de dicha carpeta\n",
    "                    subFolder = os.path.join(folder, dir)\n",
    "                    # Escaneo todos los ficheros en las subcarpetas\n",
    "                    with os.scandir(subFolder) as file_list:\n",
    "                        for file in file_list:\n",
    "                            # Compruebo si es un fichero y si respeta el formato de nombre utilizado\n",
    "                            if os.path.isfile(file) and re.match(fileFormat, file.name):\n",
    "                                # Mantengo en 2 variables la hora más antigua y la más reciente\n",
    "                                h = dir.name + file.name[:-4].replace('_', '')\n",
    "                                if h < first: first = h\n",
    "                                if h > last: last = h\n",
    "                                # Abro todos los ficheros validos y saco las informaciones\n",
    "                                with open(file, 'r') as f:\n",
    "                                    for line in f:\n",
    "                                        memUso.append(int(line.split(', ')[0]))\n",
    "                                        memTot.append(int(line.split(', ')[-1]))\n",
    "        \n",
    "        # Ahora que tenemos todos los datos, podemos sacar estadísticas\n",
    "        # El número de muestras leídas.\n",
    "        print(f'Número de muestras leídas: {len(memUso)}')\n",
    "\n",
    "        # La media de la memoria total y utilizada.\n",
    "        medTot = int(sum(memTot)/len(memTot))\n",
    "        print(f'La media de la memoria total es: {medTot} MB')\n",
    "        medUso = int(sum(memUso)/len(memUso))\n",
    "        print(f'La media de la memoria utilizada es: {medUso} MB')\n",
    "        \n",
    "        # La mediana de la memoria total y utilizada.\n",
    "        def mediana(arr):\n",
    "            arr.sort()\n",
    "            if len(arr) % 2 == 1:\n",
    "                return arr[int(len(arr)/2)]\n",
    "            else:\n",
    "                a = arr[int((len(arr)/2)-1)]\n",
    "                p = arr[int(len(arr)/2)]\n",
    "                return ((a + p)/2)\n",
    "        print(f'La mediana de la memoria total es {int(mediana(memTot))} MB')\n",
    "        print(f'La mediana de la memoria utilizada es {int(mediana(memUso))} MB')\n",
    "\n",
    "        # La desviación estándar de la memoria total y utilizada.\n",
    "        def st_dev(arr):\n",
    "            media = sum(arr)/len(arr)\n",
    "            suma_cuads = 0\n",
    "            for index in range(len(arr)):\n",
    "                resta = arr[index] - media\n",
    "                cuad = resta ** 2\n",
    "                suma_cuads += cuad\n",
    "            return int(round((suma_cuads / (len(arr))) ** 0.5, 2))\n",
    "        print(f'La desviación típica de la memoria total es: {st_dev(memTot)} MB')\n",
    "        print(f'La desviación típica de la memoria utilizada es: {st_dev(memUso)} MB')\n",
    "\n",
    "        # La fecha y hora de la primera y última capturas de las que tenemos datos.\n",
    "        first = datetime.datetime.strptime(first, \"%Y%m%d%H%M%S\").strftime('%d/%m/%Y a las %H:%M:%S')\n",
    "        last = datetime.datetime.strptime(last, \"%Y%m%d%H%M%S\").strftime('%d/%m/%Y a las %H:%M:%S')\n",
    "        print(f'La primera captura es del {first}')\n",
    "        print(f'La última captura es del {last}')\n",
    "\n",
    "logger_reader()"
   ]
  },
  {
   "cell_type": "markdown",
   "metadata": {},
   "source": [
    "1.6. Implementad una función que cree un archivo comprimido con todos los datos almacenados para cada día. La función recibirá como argumento el nombre de la carpeta de datos (por defecto, `mem_data`) y creará tantos ficheros comprimidos como días de los que disponemos datos. Cada archivo comprimido contendrá todos los archivos de datos de ese día.\n",
    "\n",
    "Llamad a la función anterior y comprobad que se generan los ficheros comprimidos correctamente.\n"
   ]
  },
  {
   "cell_type": "code",
   "execution_count": 18,
   "metadata": {},
   "outputs": [
    {
     "name": "stdout",
     "output_type": "stream",
     "text": [
      "Compresión del archivo 20211122.tar.gz completada.\n",
      "Compresión del archivo 20211123.tar.gz completada.\n",
      "Compresión del archivo 20211124.tar.gz completada.\n",
      "Compresión del archivo 20211125.tar.gz completada.\n",
      "Compresión del archivo 20211126.tar.gz completada.\n"
     ]
    }
   ],
   "source": [
    "# Respuesta\n",
    "def compress_folder(folderName='mem_data'):\n",
    "    ext = '.tar.gz'\n",
    "    # Obtengo la ruta absoluta de la carpeta en que estamos trabajando\n",
    "    try:\n",
    "        # Para saber la ruta absoluta desde .py\n",
    "        actualFolder = os.path.dirname(__file__)\n",
    "    except:\n",
    "        # Para saber el directorio absoluto desde .ipynb\n",
    "        actualFolder = os.path.abspath('')\n",
    "    folder = os.path.join(actualFolder, folderName)\n",
    "    \n",
    "    # Escaneo la carpeta mem_data y creo un fichero comprimido para cada subcarpeta\n",
    "    with os.scandir(folder) as dir_list:\n",
    "        for dir in dir_list:\n",
    "            if os.path.isdir(dir):\n",
    "                subFolder = os.path.join(folder, dir.name)\n",
    "                compressedName = os.path.join(folder, dir.name + ext)\n",
    "                # Si el fichero no existe creo uno nuevo con el nombre de la subcarpeta\n",
    "                try:\n",
    "                    compressedFile = tarfile.open(compressedName, mode = 'x')\n",
    "                except FileExistsError:\n",
    "                    print(f'El fichero {dir.name}{ext} ya existe. No se hará ningún cambio.')\n",
    "                else:\n",
    "                    with os.scandir(subFolder) as file_list:\n",
    "                        for file in file_list:\n",
    "                            if os.path.isfile(file):\n",
    "                                fileName = os.path.join(subFolder, file.name)\n",
    "                                compressedFile.add(fileName, file.name)\n",
    "                    print(f'Compresión del archivo {dir.name}{ext} completada.')\n",
    "                    compressedFile.close()\n",
    "\n",
    "compress_folder()                    "
   ]
  },
  {
   "cell_type": "markdown",
   "metadata": {},
   "source": [
    "***\n",
    "\n",
    "# 8. Bibliografía\n",
    "\n",
    "\n",
    "## 8.1. Bibliografía básica\n",
    "\n",
    "La codificación es uno de los detalles importantes que se debe considerar cuando hay que leer y/o escribir un archivo y, a menudo, es el origen de dolores de cabeza en muchos programadores (sobre todo en lenguajes de más bajo nivel que Python). Para entender qué es la codificación de caracteres, conocer cuáles son las codificaciones de caracteres más habituales y saber cómo gestiona Python 3 la codificación, leed ahora la [guía de este enlace](https://realpython.com/python-encodings-guide/#python-3-all-in-on-unicode).\n",
    "\n",
    "\n",
    "## 8.2. Bibliografía adicional (ampliación de conocimientos)\n",
    "\n",
    "Esta unidad presenta una introducción a cómo interactuar con el sistema de archivos y, en general, con el sistema operativo, desde Python. Así, como introducción, presenta algunas cuestiones de manera inicial y abre la puerta a explorarlas con más detalle. A continuación se listan algunos enlaces que os servirán para seguir explorando algunos de los temas que trabajamos en la unidad, ya sean puramente de programación en Python como del sistema operativo:\n",
    "\n",
    "* **El sistema de ficheros de Linux**: en la unidad hablamos de interactuar con el sistema de archivos de Linux, pero no entramos a explicar cómo es este sistema de ficheros. Si deseáis leer una introducción a este sistema, este [*Overview*](https://tldp.org/LDP/intro-linux/html/sect_03_01.html) os puede resultar muy útil.\n",
    "\n",
    "* **Permisos sobre los ficheros en unix**: si tenéis curiosidad por saber cómo funcionan los bits de permiso de los ficheros en unix, os recomendamos leer las tres partes de la serie de artículos sobre los permisos ([1](http://www.filepermissions.com/articles/what-are-file-permissions-in-linux-and-mac), [2](http://www.filepermissions.com/articles/understanding-octal-file-permissions ) y [3](http://www.filepermissions.com/articles/sticky-bit-suid-and-sgid)).\n",
    "\n",
    "* **Apertura de archivos desde Python**: la función `open` acepta otros argumentos opcionales que no hemos presentado, y que gestionan detalles como el *buffering* de datos, la codificación, la gestión de los errores, la gestión del salto de línea, etc. El lector interesado puede consultar la [documentación oficial de la función `open`](https://docs.python.org/3/library/functions.html#open) para descubrir cómo funcionan estos argumentos y qué opciones se encuentran disponibles.\n",
    "\n",
    "* **Compresión de archivos**: existen otros formatos de compresión de datos aparte de los que hemos visto en esta unidad. El lector interesado puede leer la documentación del módulo [`gzip`](https://docs.python.org/3/library/gzip.html) para conocer las funciones que permiten trabajar con archivos gzip desde Python.\n",
    "\n",
    "* **Lectura de ficheros con pandas**: más allá de los ficheros csv, hay otros formatos que también se utilizan a menudo para intercambiar o guardar datos. Pandas dispone de varias funciones para cargar datos provenientes de los formatos de datos más populares, tales como json ([`read_json`](https://pandas.pydata.org/pandas-docs/stable/reference/api/pandas.read_json.html#pandas.read_json)) o excel ([`read_excel`](https://pandas.pydata.org/pandas-docs/stable/reference/api/pandas.read_excel.html#pandas.read_excel)).\n",
    "\n",
    "También os recomendamos revisar la documentación oficial de las funciones y clases descritas en esta unidad, que encontraréis enlazadas en cada uno de los apartados que las describen, con el fin de conocer qué parámetros permiten ajustar su funcionamiento."
   ]
  }
 ],
 "metadata": {
  "interpreter": {
   "hash": "63fd5069d213b44bf678585dea6b12cceca9941eaf7f819626cde1f2670de90d"
  },
  "kernelspec": {
   "display_name": "Python 3.9.2 64-bit",
   "name": "python3"
  },
  "language_info": {
   "codemirror_mode": {
    "name": "ipython",
    "version": 3
   },
   "file_extension": ".py",
   "mimetype": "text/x-python",
   "name": "python",
   "nbconvert_exporter": "python",
   "pygments_lexer": "ipython3",
   "version": "3.9.2"
  }
 },
 "nbformat": 4,
 "nbformat_minor": 4
}
