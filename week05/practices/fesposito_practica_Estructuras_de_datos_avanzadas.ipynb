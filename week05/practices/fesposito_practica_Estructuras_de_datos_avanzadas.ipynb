{
 "cells": [
  {
   "cell_type": "markdown",
   "metadata": {},
   "source": [
    "# Ejercicios para practicar - Estructura de datos\n",
    "\n",
    "A continuación encontraréis un conjunto de problemas que pueden servir para practicar los conceptos explicados en esta primera unidad, así como para refrescar los conceptos básicos de programación. Os recomendamos que intentéis realizar estos problemas vosotros mismos y que, una vez realizados, comparéis la solución que proponemos con vuestra solución. No dudéis en dirigir todas las dudas que surjan de la resolución de estos ejercicios, o bien de las soluciones propuestas, al foro del aula.\n",
    "\n",
    "1. Decidid cuál es la estructura de datos más adecuada para responder a cada una de las preguntas siguientes y escribid el código que permita responderlas.\n",
    "\n",
    "Disponemos de datos de un conjunto de ciudades del mundo. De cada ciudad, sabemos si tiene más de 14 millones de habitantes, si es capital del país donde se encuentra y si tiene una densidad de población por encima de los 20.000 habitantes por $km^2$:\n",
    "* Las ciudades Shanghai, Beijing, Delhi, Estambul, Karachi, Guangzhou y Kinshasa tienen más de 14 millones de habitantes. El resto de las ciudades de las que tenemos datos tienen 14 millones o menos de habitantes.\n",
    "* Las ciudades Delhi, Beijing, Kinshasa, Tokio, Moscow, Jakarta, Seoul y El Cairo son capitales del país donde se encuentran. El resto de las ciudades de las que tenemos datos no son capitales.\n",
    "* Las ciudades El Cairo, Kinshasa, Delhi y Tokio tienen una densidad de población por encima de los 20.000 habitantes por $km^2$. El resto de las ciudades de las que tenemos datos no superan los 20.000 habitantes por $km^2$. \n",
    "\n",
    "1.1. ¿De cuántas ciudades (diferentes) tenemos datos? Asumiremos que no hay ninguna ciudad que no cumpla al menos una de las propiedades anteriores.\n"
   ]
  },
  {
   "cell_type": "code",
   "execution_count": 12,
   "metadata": {},
   "outputs": [
    {
     "name": "stdout",
     "output_type": "stream",
     "text": [
      "Tenemos datos de éstas 12 ciudades:\n",
      "Beijing, Delhi, El Cairo, Estambul, Guangzhou, Jakarta, Karachi, Kinshasa, Moscow, Seoul, Shanghai, Tokio\n",
      "12\n"
     ]
    }
   ],
   "source": [
    "# Respuesta\n",
    "# Más de 14 millones de habitantes\n",
    "habitantes = {'Shanghai', 'Beijing', 'Delhi', 'Estambul', 'Karachi', 'Guangzhou', 'Kinshasa'}\n",
    "\n",
    "# Capitales del país donde se encuentran\n",
    "capitales = {'Delhi', 'Beijing', 'Kinshasa', 'Tokio', 'Moscow', 'Jakarta', 'Seoul', 'El Cairo'}\n",
    "\n",
    "# Densidad de población por encima de los 20.000 habitantes por km2\n",
    "densidad = {'El Cairo', 'Kinshasa', 'Delhi', 'Tokio'}\n",
    "\n",
    "# Uno los sets en otro nuevo e imprimo los resultados\n",
    "ciudades = sorted(set.union(habitantes, capitales, densidad))\n",
    "ciudades2 = len(sorted(habitantes.union(capitales, densidad)))\n",
    "ciudades3 = len(habitantes.union(capitales).union(densidad))\n",
    "print(f'Tenemos datos de éstas {len(ciudades)} ciudades:')\n",
    "print(*ciudades, sep=', ')\n",
    "print(ciudades2)\n",
    "\n",
    "# Calular cuanto tarda cada método (incluso con un for)"
   ]
  },
  {
   "cell_type": "markdown",
   "metadata": {},
   "source": [
    "1.2. ¿Cuántas ciudades tienen más de 14 millones de habitantes y una densidad de población por encima de los 20.000 habitantes por $ km ^ 2 $?\n"
   ]
  },
  {
   "cell_type": "code",
   "execution_count": 13,
   "metadata": {},
   "outputs": [
    {
     "name": "stdout",
     "output_type": "stream",
     "text": [
      "Estas 2 ciudades tienen más de 14 m. de habitantes y densidad mayor a 20.000 h/km2:\n",
      "Kinshasa, Delhi\n"
     ]
    },
    {
     "data": {
      "text/plain": [
       "{'Delhi', 'Kinshasa'}"
      ]
     },
     "execution_count": 13,
     "metadata": {},
     "output_type": "execute_result"
    }
   ],
   "source": [
    "# Respuesta\n",
    "r12 = {c for c in ciudades if c in habitantes and c in densidad}\n",
    "print(f'Estas {len(r12)} ciudades tienen más de 14 m. de habitantes y densidad mayor a 20.000 h/km2:')\n",
    "print(*r12, sep=', ')\n",
    "habitantes.intersection(densidad)"
   ]
  },
  {
   "cell_type": "markdown",
   "metadata": {},
   "source": [
    "1.3. ¿Qué ciudades tienen una densidad de población por encima de los 20.000 habitantes por $ km ^ 2 $ pero no más de 14 millones de habitantes?\n"
   ]
  },
  {
   "cell_type": "code",
   "execution_count": 14,
   "metadata": {},
   "outputs": [
    {
     "name": "stdout",
     "output_type": "stream",
     "text": [
      "{'Tokio', 'El Cairo'}\n",
      "Estas 2 ciudades tienen una densidad mayor a 20.000 h/km2 pero no más de 14 m. de habitantes:\n",
      "Tokio, El Cairo\n"
     ]
    }
   ],
   "source": [
    "# Respuesta\n",
    "r13 = densidad - habitantes # o densidad - r12\n",
    "print(densidad.difference(habitantes))\n",
    "print(f'Estas {len(r13)} ciudades tienen una densidad mayor a 20.000 h/km2 pero no más de 14 m. de habitantes:')\n",
    "print(*r13, sep=', ')"
   ]
  },
  {
   "cell_type": "markdown",
   "metadata": {},
   "source": [
    "1.4. ¿Cuál es el país con mayor número de ciudades por encima de 14 millones de habitantes? ¿Cuántas ciudades de estas características hay en cada país?\n",
    "\n",
    "Para responder a estas preguntas, nos faltará añadir información al conjunto de datos de ciudades disponible para realizar la actividad. Pensad cuál sería la estructura de datos más adecuada para almacenar esta información extra y calcular la respuesta a la pregunta planteada.\n"
   ]
  },
  {
   "cell_type": "code",
   "execution_count": 15,
   "metadata": {},
   "outputs": [
    {
     "name": "stdout",
     "output_type": "stream",
     "text": [
      "El país con mayor número de ciudades por encima de 14 millones de habitantes es: China\n",
      "Cuántas ciudades de estas características hay en cada país?\n",
      "China 3\n",
      "India 1\n",
      "Egipto 0\n",
      "Turquía 1\n",
      "Indonesia 0\n",
      "Pakistán 1\n",
      "R. D. Congo 1\n",
      "Rusia 0\n",
      "Corea del Sur 0\n",
      "Japón 0\n"
     ]
    }
   ],
   "source": [
    "# Respuesta\n",
    "ciudades = {'Beijing': 'China',\n",
    "            'Delhi': 'India',\n",
    "            'El Cairo': 'Egipto',\n",
    "            'Estambul': 'Turquía',\n",
    "            'Guangzhou': 'China',\n",
    "            'Jakarta': 'Indonesia',\n",
    "            'Karachi': 'Pakistán',\n",
    "            'Kinshasa': 'R. D. Congo',\n",
    "            'Moscow': 'Rusia',\n",
    "            'Seoul': 'Corea del Sur',\n",
    "            'Shanghai': 'China',\n",
    "            'Tokio': 'Japón'}\n",
    "\n",
    "# Creo un diccionario con todos los paises y con su contador\n",
    "paisesMasDe14 = dict.fromkeys([*ciudades.values()], 0)\n",
    "# Ejecuto un loop sobre las ciudades con más de 14 m de habitantes\n",
    "# y aumento el contador del pais correspondiente \n",
    "for c in habitantes: paisesMasDe14[ciudades[c]] +=1\n",
    "# Me devuelve la clave del valor más alto entre todos\n",
    "r14 = max(paisesMasDe14, key = paisesMasDe14.get)\n",
    "print(f'El país con mayor número de ciudades por encima de 14 millones de habitantes es: {r14}')\n",
    "print('Cuántas ciudades de estas características hay en cada país?')\n",
    "for c in paisesMasDe14: print(c, paisesMasDe14[c])\n"
   ]
  },
  {
   "cell_type": "markdown",
   "metadata": {},
   "source": [
    "1.5. ¿Cuáles son los dos países adyacentes que tienen el mayor número de ciudades por encima de 14 millones de habitantes?\n",
    "\n",
    "Para responder a esta pregunta, nos faltará añadir más información al conjunto de datos de ciudades disponible para realizar la actividad. De nuevo, pensad cuál sería la estructura de datos más adecuada para almacenar esta información extra y calcular la respuesta a la pregunta planteada.\n",
    "\n"
   ]
  },
  {
   "cell_type": "code",
   "execution_count": 16,
   "metadata": {},
   "outputs": [
    {
     "name": "stdout",
     "output_type": "stream",
     "text": [
      "['China', 'India', 'Turquía', 'Pakistán', 'R. D. Congo', 'Egipto', 'Indonesia', 'Rusia', 'Corea del Sur', 'Japón']\n",
      "¿Cuáles son los dos países adyacentes que tienen el mayor número de ciudades por encima de 14 millones de habitantes?\n",
      "China y India\n"
     ]
    }
   ],
   "source": [
    "# Respuesta\n",
    "adyacentes = {'China': ['Afganistán', 'Bután', 'Corea del Norte', 'India', 'Kazajistán', 'Kirguistán', 'Laos', 'Mongolia', 'Myanmar', 'Nepal', 'Pakistán', 'Rusia', 'Tayikistán', 'Vietnam'],\n",
    "            'India': ['Afganistán', 'Bangladés', 'Bután', 'China', 'Myanmar', 'Nepal', 'Pakistán'],\n",
    "            'Egipto': ['Libia', 'Sudán', 'Israel'],\n",
    "            'Turquía': ['Armenia', 'Azerbaiyán', 'Bulgaria', 'Georgia', 'Grecia', 'Irak', 'Irán', 'Siria'],\n",
    "            'Indonesia': ['Malasia', 'Papúa Nueva Guinea', 'Timor Oriental'],\n",
    "            'Pakistán': ['Afganistán', 'China', 'India', 'Irán'],\n",
    "            'R. D. Congo': ['Angola', 'Burundi', 'República Centroafricana', 'República del Congo', 'Ruanda', 'Sudán del Sur', 'Tanzania', 'Uganda', 'Zambia'],\n",
    "            'Rusia': ['Azerbaiyán', 'Bielorrusia', 'China', 'Corea del Norte', 'Estonia', 'Finlandia', 'Georgia', 'Kazajastán', 'Letonia', 'Lituania', 'Mongolia', 'Noruega', 'Polonia', 'Ucrania'],\n",
    "            'Corea del Sur': ['Corea del Norte'],\n",
    "            'Japón': []}\n",
    "\n",
    "# Creo una lista ordenada por los paises que tienen más ciudades con más de 14m de habitantes\n",
    "masDe14list = sorted(paisesMasDe14, key = paisesMasDe14.get, reverse=True)\n",
    "print(masDe14list)\n",
    "\n",
    "# Ahora comparo en orden los paises para comprobar si son adyacentes\n",
    "dictIndex = [*adyacentes.keys()]\n",
    "r15 = 0\n",
    "for pais in masDe14list:\n",
    "    for i in range(len(masDe14list)):\n",
    "        \n",
    "        if pais in adyacentes[masDe14list[i]]:\n",
    "            if r15 == 0:\n",
    "                r15 = pais, dictIndex[i]\n",
    "# Y doy como resultados los primeros dos que coinciden\n",
    "print('¿Cuáles son los dos países adyacentes que tienen el mayor número de ciudades por encima de 14 millones de habitantes?')\n",
    "print(*r15, sep=' y ')\n",
    "\n",
    "# Sinceramente no estoy satisfecho con mi resolución de éste último ejercicio, pero ya he perdido demasiado tiempo con él y tengo que seguir adelante"
   ]
  },
  {
   "cell_type": "markdown",
   "metadata": {},
   "source": [
    "2. Calculad cuántas horas ha trabajado la persona que ha escrito la siguiente frase:\n",
    "\n",
    "\"I started working at 17:22:42 and finished at 22:00:00\"\n",
    "\n"
   ]
  },
  {
   "cell_type": "code",
   "execution_count": 17,
   "metadata": {},
   "outputs": [
    {
     "name": "stdout",
     "output_type": "stream",
     "text": [
      "La persona que ha escrito la frase ha trabajado 4:37:18\n"
     ]
    }
   ],
   "source": [
    "sentence = \"I started working at 17:22:42 and finished at 22:00:00\"\n",
    "\n",
    "# Respuesta\n",
    "import re, datetime as dt\n",
    "patron = '\\d\\d:\\d\\d:\\d\\d'\n",
    "horas = re.findall(patron, sentence)\n",
    "start = dt.datetime.strptime(horas[0], \"%H:%M:%S\")\n",
    "end = dt.datetime.strptime(horas[1], \"%H:%M:%S\")\n",
    "result = end - start\n",
    "print(f'La persona que ha escrito la frase ha trabajado {result}')"
   ]
  },
  {
   "cell_type": "markdown",
   "metadata": {},
   "source": [
    "3. Dada la cadena de caracteres `sentence`, reemplazad todos los espacios en blanco por puntos.\n"
   ]
  },
  {
   "cell_type": "code",
   "execution_count": 18,
   "metadata": {},
   "outputs": [
    {
     "data": {
      "text/plain": [
       "'.From.....time.to.time,.Python.makes..an....incompatible.change..to.the...advertised.semantics.of.core.language.constructs...'"
      ]
     },
     "execution_count": 18,
     "metadata": {},
     "output_type": "execute_result"
    }
   ],
   "source": [
    "sentence = \" From     time to time, Python makes  an    incompatible change \" \\\n",
    "    \" to the   advertised semantics of core language constructs   \"\n",
    "\n",
    "# Respuesta\n",
    "sentence.replace(' ', '.')"
   ]
  },
  {
   "cell_type": "markdown",
   "metadata": {},
   "source": [
    "4. Dada la misma cadena de caracteres del ejercicio anterior, reemplazad todos los espacios en blanco contiguos por un único punto. Es decir, si encontráis tres espacios en blanco consecutivos, estos se deben reemplazar por un único punto, y no por tres puntos como implementábamos en el ejercicio anterior. Eliminad los espacios que se encuentran al inicio y al final de la cadena antes de sustituirlos por puntos.\n"
   ]
  },
  {
   "cell_type": "code",
   "execution_count": 19,
   "metadata": {},
   "outputs": [
    {
     "data": {
      "text/plain": [
       "'.From.time.to.time,.Python.makes.an.incompatible.change.to.the.advertised.semantics.of.core.language.constructs.'"
      ]
     },
     "execution_count": 19,
     "metadata": {},
     "output_type": "execute_result"
    }
   ],
   "source": [
    "# Respuesta\n",
    "re.sub(' +', ('.'), sentence)"
   ]
  },
  {
   "cell_type": "markdown",
   "metadata": {},
   "source": [
    "5. Proporcionad una lista con todas las palabras de cuatro letras de la cadena de caracteres `sentence` que empiecen por `t` o `F`.\n"
   ]
  },
  {
   "cell_type": "code",
   "execution_count": 20,
   "metadata": {},
   "outputs": [
    {
     "name": "stdout",
     "output_type": "stream",
     "text": [
      "['From', 'time', 'time']\n"
     ]
    }
   ],
   "source": [
    "# Respuesta\n",
    "words = []\n",
    "slist = sentence.split()\n",
    "\n",
    "for word in slist:\n",
    "    word = re.sub(r\"[^a-zA-Z0-9]\",\"\", word)\n",
    "    if len(word) == 4:\n",
    "        if word[0] == 't' or word[0] == 'F':\n",
    "            words.append(word)\n",
    "print(words)"
   ]
  },
  {
   "cell_type": "code",
   "execution_count": 33,
   "metadata": {},
   "outputs": [
    {
     "name": "stdout",
     "output_type": "stream",
     "text": [
      " From     time to time, Python makes  an    incompatible change  to the   advertised semantics of core language constructs   \n"
     ]
    },
    {
     "data": {
      "text/plain": [
       "[' From', ' time', ' time']"
      ]
     },
     "execution_count": 33,
     "metadata": {},
     "output_type": "execute_result"
    }
   ],
   "source": [
    "print(sentence)\n",
    "re.findall(' [t|F]\\w{3}', sentence)"
   ]
  },
  {
   "cell_type": "markdown",
   "metadata": {},
   "source": [
    "6. Reemplazad todas las mayúsculas de la cadena `sentence` por interrogantes.\n"
   ]
  },
  {
   "cell_type": "code",
   "execution_count": 21,
   "metadata": {},
   "outputs": [
    {
     "name": "stdout",
     "output_type": "stream",
     "text": [
      " ?rom     time to time, ?ython makes  an    incompatible change  to the   advertised semantics of core language constructs   \n"
     ]
    }
   ],
   "source": [
    "# Respuesta\n",
    "new_sentence = re.sub(r\"[A-Z]\",\"?\", sentence)\n",
    "print(new_sentence)"
   ]
  },
  {
   "cell_type": "markdown",
   "metadata": {},
   "source": [
    "7. Una aerolínea nos contrata para ayudarla a optimizar el procedimiento de embarque de sus aviones. La aerolínea dispone de tres clases de billetes: primera, *business* y turista. A la hora de embarcar, los clientes se sitúan en tres colas, una para cada clase. Después, sin embargo, solo hay dos azafatas que les validen la tarjeta de embarque, por lo que las tres colas iniciales se convierten en dos, a partir de las cuales los pasajeros acceden a los aviones.\n",
    "\n",
    "Actualmente, la aerolínea utiliza la siguiente estrategia para convertir las tres colas iniciales (por clase) en las dos colas que embarcan (una por cada azafata):\n",
    "\n",
    "Por un lado, los clientes de primera y *business* van a parar a la cola 1 (cola prioritaria), intercalando un cliente de cada tipo en la cola prioritaria siempre que haya suficientes clientes para hacerlo, y asignando después todos los clientes restantes a la nueva cola. Así, el primer cliente que se asigna a la cola prioritaria es el primer cliente de la clase primera, el segundo cliente de la cola prioritaria será el primer cliente de la cola de *business*, el tercer cliente de la cola prioritaria será el segundo cliente de la clase primera, etc.\n",
    "\n",
    "Por otra parte, los clientes de clase turista van a parar a la cola 2 (cola no prioritaria), siguiendo el orden que tenían en la cola de la clase turista. Ahora bien, si un cliente de clase turista tiene movilidad reducida o va acompañado de niños, entonces este se sitúa al frente de la cola prioritaria. Si hay más de un cliente en estas condiciones, el orden que siguen en la cola de la clase turista se mantiene.\n",
    "\n",
    "Para evaluar cómo de buena es la estrategia, la aerolínea utiliza dos métricas:\n",
    "1. El tiempo que se tarda en embarcar el avión es de 30 segundos por pasajero, considerando que las dos colas (1 y 2) embarcan a la vez. Es decir, si la cola 1 tiene un pasajero y la cola 2 tiene dos, se tardará un minuto en embarcar.\n",
    "2. La satisfacción global de sus clientes, que se calcula haciendo la media de la satisfacción de cada cliente, considerando que:\n"
   ]
  },
  {
   "cell_type": "markdown",
   "metadata": {},
   "source": [
    "* Los clientes de primera tienen una satisfacción de -25 veces el número de posiciones que han perdido en la cola prioritaria respecto a su posición original en la cola de primera. Es decir, un cliente que estaba en tercera posición en la cola de primera y que ocupa la quinta posición de la cola prioritaria, tendrá una satisfacción de -50.\n",
    "* Los clientes de *business* siempre tienen una satisfacción de 0.\n",
    "* Los clientes con billete de clase turista que han sido movidos a la cola prioritaria tienen una satisfacción de 100. En cambio, los que han sido movidos a la cola no prioritaria tienen una satisfacción de 25 si han avanzado alguna posición en la cola 2 respecto a su posición inicial en la cola de la clase turista, o de 0 en cualquier otro caso.\n",
    "\n",
    "Como analistas de datos, evaluaremos la satisfacción y el tiempo de embarque del avión del vuelo 714.\n"
   ]
  },
  {
   "cell_type": "markdown",
   "metadata": {},
   "source": [
    "7.1 Cargad los datos de los pasajeros del vuelo 714 que encontraréis en el dataset `data/flight714.csv` y cread las tres colas, primera, *business* y turista, con los datos de los pasajeros. Los clientes se encuentran ordenados según su posición en la cola, con la columna `client_class` indicando a cuál de las colas pertenecen.\n"
   ]
  },
  {
   "cell_type": "code",
   "execution_count": 22,
   "metadata": {},
   "outputs": [],
   "source": [
    "# Respuesta\n",
    "import pandas as pd\n",
    "data = pd.read_csv('flight714.csv')\n",
    "\n",
    "# Creo otros 3 dataframe filtrando por clase\n",
    "primera = data[(data['client_class']=='p')]\n",
    "business = data[(data['client_class']=='b')]\n",
    "turista = data[(data['client_class']=='t')]\n",
    "\n",
    "# Reseteo los indices para luego poder usar un único for loop para sacar datos\n",
    "primera.reset_index(inplace=True)\n",
    "business.reset_index(inplace=True)\n",
    "turista.reset_index(inplace=True)\n",
    "\n",
    "# Creo listas para luego comparar la posición inicial\n",
    "# con la posición en las colas de embarque\n",
    "primeraLS = primera['client_id'].values.tolist()\n",
    "turistaLS = turista['client_id'].values.tolist()"
   ]
  },
  {
   "cell_type": "markdown",
   "metadata": {},
   "source": [
    "7.2 Mostrad cuántos pasajeros hay en cada cola, con el detalle de cuántos de ellos tienen o bien niños o bien movilidad reducida.\n"
   ]
  },
  {
   "cell_type": "code",
   "execution_count": 23,
   "metadata": {},
   "outputs": [
    {
     "name": "stdout",
     "output_type": "stream",
     "text": [
      "En primera clase hay 3 pasajeros, de los cuales 0 niños y 0 con movilidad reducida\n",
      "En business hay 10 pasajeros, de los cuales 0 niños y 0 con movilidad reducida\n",
      "En turista hay 37 pasajeros, de los cuales 4 niños y 3 con movilidad reducida\n"
     ]
    }
   ],
   "source": [
    "# Respuesta\n",
    "primeraChild = sum(primera['has_children'])\n",
    "primeraRed = sum(primera['has_reduced_mobility'])\n",
    "print(f'En primera clase hay {len(primera)} pasajeros, de los cuales {primeraChild} niños y {primeraRed} con movilidad reducida')\n",
    "\n",
    "businessChild = sum(business['has_children'])\n",
    "businessRed = sum(business['has_reduced_mobility'])\n",
    "print(f'En business hay {len(business)} pasajeros, de los cuales {businessChild} niños y {businessRed} con movilidad reducida')\n",
    "\n",
    "turistaChild = sum(turista['has_children'])\n",
    "turistaRed = sum(turista['has_reduced_mobility'])\n",
    "print(f'En turista hay {len(turista)} pasajeros, de los cuales {turistaChild} niños y {turistaRed} con movilidad reducida')"
   ]
  },
  {
   "cell_type": "markdown",
   "metadata": {},
   "source": [
    "7.3 Implementad una función que genere las dos colas de embarque (cola prioritaria y cola no prioritaria) a partir de las tres colas obtenidas según la clase del billete del pasajero.\n"
   ]
  },
  {
   "cell_type": "code",
   "execution_count": 24,
   "metadata": {},
   "outputs": [],
   "source": [
    "# Respuesta\n",
    "def colas_embarque(p, b, t):\n",
    "    prioritaria = []\n",
    "    noPrioritaria = []\n",
    "    special = []\n",
    "    for i in range(len(t)):\n",
    "        # Creo la cola prioritaria y la no prioritaria\n",
    "        try:\n",
    "            prioritaria.append(p['client_id'][i])\n",
    "        except KeyError:\n",
    "            pass\n",
    "        try:\n",
    "            prioritaria.append(b['client_id'][i])\n",
    "        except KeyError:\n",
    "            pass\n",
    "        # Creo la lista special que irá por delante de la prioritaria\n",
    "        if t['has_children'][i] or t['has_reduced_mobility'][i]:\n",
    "            special.append(t['client_id'][i])\n",
    "        else:\n",
    "            noPrioritaria.append(t['client_id'][i])\n",
    "    # Pongo los pasajeros 'especiales' delante de la cola prioritaria\n",
    "    prioritaria = special + prioritaria\n",
    "    return prioritaria, noPrioritaria, special\n",
    "\n",
    "p, np, special = colas_embarque(primera, business, turista)"
   ]
  },
  {
   "cell_type": "markdown",
   "metadata": {},
   "source": [
    "7.4 Implementad una función que calcule el tiempo que se tarda en embarcar el avión y una función que calcule la satisfacción de los pasajeros.\n"
   ]
  },
  {
   "cell_type": "code",
   "execution_count": 25,
   "metadata": {},
   "outputs": [],
   "source": [
    "# Respuesta\n",
    "def tiempo_embarque(p, np):\n",
    "    maxPas = len(p) if len(p) > len(np) else len(np)\n",
    "    return maxPas * 30\n",
    "\n",
    "def sat(p, np, primeraLS, special, turistaLS):\n",
    "    s = 0\n",
    "    # Calculo satisfación primera clase\n",
    "    for i in range(len(primeraLS)):\n",
    "        startIndex = primeraLS.index(primeraLS[i])\n",
    "        endIndex = p.index(primeraLS[i])\n",
    "        s += (endIndex-startIndex)*-25\n",
    "    # Los de business siempre es 0, así que no hacemos nada\n",
    "    # Calculo satisfación clase turista\n",
    "    # primero los que han pasado a la cola de embarque prioritaria\n",
    "    s += len(special) * 100\n",
    "    # y luego los que han avanzado en la cola\n",
    "    for i in range(len(turistaLS)):\n",
    "        startIndex = turistaLS.index(turistaLS[i])\n",
    "        try:\n",
    "            endIndex = np.index(turistaLS[i])\n",
    "            a = startIndex-endIndex\n",
    "            if a > 0:\n",
    "                s += 25\n",
    "        except ValueError:\n",
    "            pass\n",
    "    # Devuelvo la satisfación de los clientes\n",
    "    return s"
   ]
  },
  {
   "cell_type": "markdown",
   "metadata": {},
   "source": [
    "7.5 Calculad el tiempo que se tarda en embarcar el vuelo 714 y la satisfacción de los clientes.\n"
   ]
  },
  {
   "cell_type": "code",
   "execution_count": 26,
   "metadata": {},
   "outputs": [
    {
     "name": "stdout",
     "output_type": "stream",
     "text": [
      "El tiempo que se tarda en embarcar el vuelo 714 es de 930 segundos.\n",
      "La satisfación de los clientes es de 825 puntos\n"
     ]
    }
   ],
   "source": [
    "# Respuesta\n",
    "print(f'El tiempo que se tarda en embarcar el vuelo 714 es de {tiempo_embarque(p, np)} segundos.')\n",
    "print(f'La satisfación de los clientes es de {sat(p, np, primeraLS, special, turistaLS)} puntos')"
   ]
  }
 ],
 "metadata": {
  "interpreter": {
   "hash": "63fd5069d213b44bf678585dea6b12cceca9941eaf7f819626cde1f2670de90d"
  },
  "kernelspec": {
   "display_name": "Python 3.9.2 64-bit",
   "name": "python3"
  },
  "language_info": {
   "codemirror_mode": {
    "name": "ipython",
    "version": 3
   },
   "file_extension": ".py",
   "mimetype": "text/x-python",
   "name": "python",
   "nbconvert_exporter": "python",
   "pygments_lexer": "ipython3",
   "version": "3.9.2"
  },
  "pycharm": {
   "stem_cell": {
    "cell_type": "raw",
    "metadata": {
     "collapsed": false
    },
    "source": []
   }
  }
 },
 "nbformat": 4,
 "nbformat_minor": 4
}
