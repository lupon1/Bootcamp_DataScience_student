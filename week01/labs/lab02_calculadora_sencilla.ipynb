{
  "cells": [
    {
      "cell_type": "markdown",
      "metadata": {
        "id": "MJFXpot9_MLX"
      },
      "source": [
        "***\n",
        "## Vamos con el laboratorio 3\n",
        "\n",
        "Crear una calculadora sencilla sin definir funciones - parte 1\n",
        "\n",
        "***\n",
        "### lab 3 - Crear una calculadora **sencilla** sin definir funciones - parte 1\n",
        "\n",
        "Cree una calculadora sencilla que acepte un primer número, una operación y un segundo número.\n",
        "\n",
        "Este es un resultado de ejemplo, en el que un usuario ha escrito *4*, *** y *5* en los cuadros de entrada:\n",
        "\n",
        "\n",
        "```output\n",
        "Simple calculator!\n",
        "First number? 4\n",
        "Operation? *\n",
        "Second number? 5\n",
        "product of 4 * 5 equals 20\n",
        "```\n",
        "\n",
        "El programa debe aceptar un símbolo, como el símbolo de asterisco (*), para realizar una multiplicación y generar un producto. Asegúrese de implementar lógica para estos resultados:\n",
        "\n",
        "- Suma (+)\n",
        "- Resta (-)\n",
        "- Multiplicación (*)\n",
        "- Cociente (/)\n",
        "- Exponente (//)\n",
        "- Módulo (%)\n",
        "\n",
        "Si el usuario no escribe un valor numérico, muestre este mensaje:\n",
        "\n",
        "\n",
        "```output\n",
        "Please input a number.\n",
        "```\n",
        "\n",
        "Si el usuario escribe una operación que no se reconoce, muestre este mensaje:\n",
        "\n",
        "\n",
        "```output\n",
        "Operation not recognized.\n",
        "```\n",
        "\n",
        "Tanto si tiene dificultades y necesita echar un vistazo a la solución como si finaliza el ejercicio correctamente, continúe para ver una solución a este desafío."
      ]
    },
    {
      "cell_type": "code",
      "execution_count": 10,
      "metadata": {},
      "outputs": [
        {
          "name": "stdout",
          "output_type": "stream",
          "text": [
            "Simple calculator!\n",
            "Product of 54 * 9 equals 486\n"
          ]
        }
      ],
      "source": [
        "# Calculadora sencilla\n",
        "# Francesco Esposito - Oct 2021\n",
        "print('Simple calculator!')\n",
        "\n",
        "# Bucle hasta que no se ponga un número entero\n",
        "while True:\n",
        "    numero1 = input('First number?')\n",
        "    try:\n",
        "        numero1 = int(numero1)\n",
        "        break\n",
        "    except:\n",
        "        print('Please input a number!')\n",
        "\n",
        "# Otro bucle hasta que no se ponga un operador valido \n",
        "accepted = ['+', '-', '*', '/', '//', '%', '**']\n",
        "while True:\n",
        "    operator = input('Operation?')\n",
        "    if operator not in accepted:\n",
        "        print('Operation not recognized')\n",
        "    else:\n",
        "        break\n",
        "\n",
        "# Otro bucle para el segundo número\n",
        "while True:\n",
        "    numero2 = input('Second number?')\n",
        "    try:\n",
        "        numero2 = int(numero2)\n",
        "        break\n",
        "    except:\n",
        "        print('Please input a number!')\n",
        "\n",
        "# Cuando tengamos todas las informaciones correctas\n",
        "# Podemos calcular el resultado de la operación\n",
        "# dependiendo del operador seleccionado\n",
        "if operator == '+': result = numero1 + numero2\n",
        "elif operator == '-': result = numero1 - numero2\n",
        "elif operator == '*': result = numero1 * numero2\n",
        "elif operator == '/': result = numero1 / numero2\n",
        "elif operator == '//': result = numero1 // numero2\n",
        "elif operator == '%': result = numero1 % numero2\n",
        "elif operator == '**': result = numero1 ** numero2\n",
        "\n",
        "# E imprimir el resultado en pantalla\n",
        "print(f'Product of {numero1} {operator} {numero2} equals {result}')\n"
      ]
    },
    {
      "cell_type": "markdown",
      "metadata": {
        "id": "y3c76u0D_Qho"
      },
      "source": [
        "#### PSEUDOCODIGO\n",
        "\n",
        "Declaramos dos valores de entrada\n",
        "```\n",
        "a (input)\n",
        "b (input)\n",
        "```\n",
        "\n",
        "Declarar el tipo de operación a realizar\n",
        "```\n",
        "operacion (input)\n",
        "```\n",
        "\n",
        "Creamos una variable con una lista de operadores\n",
        "```\n",
        "operadores = [\"+\", \"-\", \"*\", \"/\", \"//\", \"%\" ]\n",
        "```\n",
        "\n",
        "Declaramos la condición de evaluación\n",
        "SI el operador no se encuentra en la lista de Operadores\n",
        "`` \n",
        "print (Operación no reconocida)\n",
        "```\n",
        "\n",
        "ELSE\n",
        "\n",
        "SI el operacion es \"+\"\n",
        "ELSE RESULTADO a+b\n",
        "\n",
        "SI EL operacion es \"-\"\n",
        "ELSE RESULTADO a-b\n",
        "\n",
        "\n",
        "... así para el resto de operadores\n",
        "\n",
        "print(resultado)\n",
        "```"
      ]
    }
  ],
  "metadata": {
    "colab": {
      "name": "Lab03 - Calculadora sencilla",
      "provenance": []
    },
    "interpreter": {
      "hash": "b848b7fe3cd818fbb9123aacff0632e72a1e740f73c2affb6840121a30975921"
    },
    "kernelspec": {
      "display_name": "Python 3.8.8 64-bit ('base': conda)",
      "name": "python3"
    },
    "language_info": {
      "codemirror_mode": {
        "name": "ipython",
        "version": 3
      },
      "file_extension": ".py",
      "mimetype": "text/x-python",
      "name": "python",
      "nbconvert_exporter": "python",
      "pygments_lexer": "ipython3",
      "version": "3.8.8"
    }
  },
  "nbformat": 4,
  "nbformat_minor": 0
}
