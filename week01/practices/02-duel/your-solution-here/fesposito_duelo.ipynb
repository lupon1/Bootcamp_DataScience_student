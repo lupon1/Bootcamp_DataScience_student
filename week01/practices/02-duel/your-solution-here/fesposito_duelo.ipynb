{
 "cells": [
  {
   "cell_type": "markdown",
   "source": [
    "# Duelo de magos\n",
    "Estás presenciando una batalla épica entre dos poderosos magos: Gandalf y Saruman. Cada mago tiene 10 hechizos de potencia variable en su mente y los van a lanzar uno tras otro. El ganador del duelo será el que gane más de esos choques entre hechizos. Los hechizos se representan como una lista de 10 números enteros cuyo valor equivale a la potencia del hechizo. \n",
    "```\n",
    "gandalf = [10, 11, 13, 30, 22, 11, 10, 33, 22, 22]\n",
    "saruman = [23, 66, 12, 43, 12, 10, 44, 23, 12, 17]\n",
    "```\n",
    "Por ejemplo: \n",
    "1. El primer choque lo gana Saruman: 10 contra 23, gana el 23\n",
    "2. El segundo choque gana Saruman: 11 contra 66, gana el 66\n",
    "3. etc.\n",
    "\n",
    "\n",
    "Vas a crear dos variables, una por cada mago, donde se almacenarán la suma de choques de hechizos ganados. En función de qué variable sea mayor al final del duelo, mostrarás por pantalla uno de los tres siguientes resultados: \n",
    "* Gandalf gana\n",
    "* Saruman gana\n",
    "* Empate\n",
    "\n",
    "\n",
    "1. El primer choque lo gana Saruman: 10 contra 23, gana el 23\n",
    "2. El segundo choque gana Saruman: 11 contra 66, gana el 66\n",
    "3. etc."
   ],
   "metadata": {}
  },
  {
   "cell_type": "markdown",
   "source": [
    "## Solución"
   ],
   "metadata": {}
  },
  {
   "cell_type": "code",
   "execution_count": 9,
   "source": [
    "# Asignamos las listas de hechizos a variables\r\n",
    "gandalf = [10, 11, 11, 30, 12, 11, 10, 33, 22, 22]\r\n",
    "saruman = [23, 66, 12, 43, 12, 10, 44, 23, 12, 17]\r\n",
    "\r\n",
    "# Asignamos 0 a cada variable que almacena las victorias\r\n",
    "gandalf_wins = saruman_wins = 0\r\n",
    "\r\n",
    "# Ejecución de los choques de hechizos\r\n",
    "for x in range(len(gandalf)):\r\n",
    "    if gandalf[x] > saruman[x]:\r\n",
    "        gandalf_wins += 1\r\n",
    "    elif gandalf[x] < saruman[x]:\r\n",
    "        saruman_wins += 1\r\n",
    "\r\n",
    "# Comprobamos quién ha ganado, no olvides la posibilidad de empate. \r\n",
    "# Imprime el resultado en función del ganador. \r\n",
    "print(f'Gandalf {gandalf_wins} - {saruman_wins} Saruman')\r\n",
    "if gandalf_wins > saruman_wins:\r\n",
    "    print('Gandalf wins!')\r\n",
    "elif saruman_wins > gandalf_wins:\r\n",
    "    print('Saruman wins!')\r\n",
    "else:\r\n",
    "    print('Draw')"
   ],
   "outputs": [
    {
     "output_type": "stream",
     "name": "stdout",
     "text": [
      "Gandalf 4 - 5 Saruman\n",
      "Saruman wins!\n"
     ]
    }
   ],
   "metadata": {}
  },
  {
   "cell_type": "markdown",
   "source": [
    "## Objetivos\n",
    "\n",
    "1. Tratamiento de listas\n",
    "2. Uso de bucle **for**\n",
    "3. Uso de condicionales **if-elif-else**\n",
    "4. Uso de las funciones **range(), len()**\n",
    "5. Imprimir por consola"
   ],
   "metadata": {}
  },
  {
   "cell_type": "code",
   "execution_count": null,
   "source": [],
   "outputs": [],
   "metadata": {}
  }
 ],
 "metadata": {
  "kernelspec": {
   "name": "python3",
   "display_name": "Python 3.9.2 64-bit"
  },
  "language_info": {
   "codemirror_mode": {
    "name": "ipython",
    "version": 3
   },
   "file_extension": ".py",
   "mimetype": "text/x-python",
   "name": "python",
   "nbconvert_exporter": "python",
   "pygments_lexer": "ipython3",
   "version": "3.9.2"
  },
  "interpreter": {
   "hash": "63fd5069d213b44bf678585dea6b12cceca9941eaf7f819626cde1f2670de90d"
  }
 },
 "nbformat": 4,
 "nbformat_minor": 2
}