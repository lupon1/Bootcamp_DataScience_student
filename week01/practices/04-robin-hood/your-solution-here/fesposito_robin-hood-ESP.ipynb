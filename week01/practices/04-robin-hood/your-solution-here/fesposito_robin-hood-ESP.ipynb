{
 "cells": [
  {
   "cell_type": "markdown",
   "metadata": {},
   "source": [
    "# Robin Hood: \n",
    "Estamos en plena competición para ganar el concurso de tiro con arco en Sherwood. Con nuestro arco y flechas disparamos sobre una diana e intentamos acertar lo más cerca posible del centro. \n",
    "\n",
    "El centro de la diana viene representado por los valores (0, 0) en los ejes de coordenadas. \n",
    "\n",
    "## Objetivos: \n",
    "* estructuras de datos: listas, conjuntos, tuplas\n",
    "* operadores lógicos: if-elif-else\n",
    "* bucle: while/for\n",
    "* cálculo de mínimo (sorting opcional)\n",
    "\n",
    "## Descripción: \n",
    "En el espacio de 2 dimensiones un punto se puede definir por un par de valores que corresponden a la coordenada horizontal (x) y a la vertical (y). El espacio puede quedar dividido en 4 zonas (cuadrantes): Q1, Q2, Q3, Q4. Cuyo punto de unión único es el punto (0, 0). \n",
    "\n",
    "Si un punto se encuentra en Q1 tanto su coordenada x como la y son positivas. Te dejo un enlace a wikipedia para que te familiarices con estos cuadrantes. \n",
    "\n",
    "https://es.wikipedia.org/wiki/Coordenadas_cartesianas\n",
    "\n",
    "https://es.wikipedia.org/wiki/Distancia_euclidiana\n",
    "\n",
    "## Tareas\n",
    "1. Robin Hood es famoso por acertar a una flecha con otra flecha. ¿Lo ha conseguido? \n",
    "2. Calcula cuántos flechazos han caido en cada cuadrante. \n",
    "3. Halla el punto más cercano al centro. Calcula su distancia al centro\n",
    "4. Si la diana tiene un radio de 9, calcula el número de flechas que hay que recoger al bosque. "
   ]
  },
  {
   "cell_type": "code",
   "execution_count": 71,
   "metadata": {},
   "outputs": [
    {
     "name": "stdout",
     "output_type": "stream",
     "text": [
      "Si, ha conseguido clavar una flecha sobre otra, 6 veces.\n"
     ]
    }
   ],
   "source": [
    "puntos = [(4,5), (-0,2), (4,7), (1,-3), (3,-2), (4,5), \n",
    "          (3,2), (5,7), (-5,7), (2,2), (-4,5), (0,-2), \n",
    "          (-4,7), (-1,3), (-3,2), (-4,-5), (-3,2), \n",
    "          (5,7), (5,7), (2,2), (9, 9), (-8, -9)]\n",
    "\n",
    "# 1. Robin Hood es famoso por acertar a una flecha con otra flecha. ¿Lo ha conseguido? \n",
    "index = doble = 0\n",
    "num_flechazos = len(puntos)\n",
    "\n",
    "for tupla in puntos:\n",
    "    for x in range(index+1, num_flechazos):\n",
    "        if tupla == puntos[x]:\n",
    "            doble += 1\n",
    "    index += 1\n",
    "if doble > 0:\n",
    "    print(f'Si, ha conseguido clavar una flecha sobre otra, {doble} veces.')\n",
    "else:\n",
    "    print('No, no lo ha conseguido')"
   ]
  },
  {
   "cell_type": "code",
   "execution_count": 72,
   "metadata": {},
   "outputs": [
    {
     "name": "stdout",
     "output_type": "stream",
     "text": [
      "En el cuadrante 1 han caido 10 flechas;\n",
      "En el cuadrante 2 han caido 2 flechas;\n",
      "En el cuadrante 3 han caido 2 flechas;\n",
      "En el cuadrante 4 han caido 6 flechas.\n",
      "Además en las lineas entre cuadrantes han caido 2 flechas.\n"
     ]
    }
   ],
   "source": [
    "# 2. Calcula cuántos flechazos han caido en cada cuadrante. \n",
    "q1 = q2 = q3 = q4 = linea = 0\n",
    "for element in puntos:\n",
    "    if element[0] > 0: # X\n",
    "        if element[1] > 0: # Y\n",
    "            q1 += 1\n",
    "        elif element[1] < 0:\n",
    "            q2 += 1\n",
    "        elif element[1] == 0:\n",
    "            linea += 1\n",
    "    elif element[0] < 0: # X\n",
    "        if element[1] > 0: # Y\n",
    "            q4 += 1\n",
    "        elif element[1] < 0:\n",
    "            q3 += 1\n",
    "        elif element[1] == 0:\n",
    "            linea +=1\n",
    "    elif element[0] == 0:\n",
    "        linea += 1\n",
    "print(f'En el cuadrante 1 han caido {q1} flechas;')\n",
    "print(f'En el cuadrante 2 han caido {q2} flechas;')\n",
    "print(f'En el cuadrante 3 han caido {q3} flechas;')\n",
    "print(f'En el cuadrante 4 han caido {q4} flechas.')\n",
    "print(f'Además en las lineas entre cuadrantes han caido {linea} flechas.')"
   ]
  },
  {
   "cell_type": "code",
   "execution_count": 73,
   "metadata": {},
   "outputs": [
    {
     "name": "stdout",
     "output_type": "stream",
     "text": [
      "Il punto más cercano al centro es: (0, 2)\n"
     ]
    }
   ],
   "source": [
    "# 3. Halla el punto más cercano al centro. Calcula su distancia al centro\n",
    "# Definir una función que calcula la distancia al centro puede servir de ayuda. \n",
    "from math import sqrt\n",
    "def calcula_distancia(x,y):\n",
    "    return round(sqrt(((x-0)**2) + ((y-0)**2)), 2)\n",
    "\n",
    "distancias = []\n",
    "for i in puntos:\n",
    "    distancias.append(calcula_distancia(i[0], i[1]))\n",
    "mas_cercano = (min(distancias))\n",
    "\n",
    "mas_cercano_index = distancias.index(mas_cercano)\n",
    "print(f'Il punto más cercano al centro es: {puntos[mas_cercano_index]}')"
   ]
  },
  {
   "cell_type": "code",
   "execution_count": 74,
   "metadata": {},
   "outputs": [
    {
     "name": "stdout",
     "output_type": "stream",
     "text": [
      "Ninguna flecha ha sido disparada fuera de la diana, es Robin Hood, ¿que esperabas?\n"
     ]
    }
   ],
   "source": [
    "# 4. Si la diana tiene un radio de 9, calcula el número de flechas que hay que recoger al bosque. \n",
    "flechas_fuera = 0\n",
    "for i in puntos:\n",
    "    if i[0] > 9 or i[0] < -9 or i[1] > 9 or i[1] < -9 :\n",
    "        flechas_fuera += 1\n",
    "        \n",
    "if flechas_fuera > 0:\n",
    "    print(f'{flechas_fuera} flechas han sido disparadas fuera de la diana.')\n",
    "else:\n",
    "    print('Ninguna flecha ha sido disparada fuera de la diana, es Robin Hood, ¿que esperabas?')"
   ]
  }
 ],
 "metadata": {
  "interpreter": {
   "hash": "63fd5069d213b44bf678585dea6b12cceca9941eaf7f819626cde1f2670de90d"
  },
  "kernelspec": {
   "display_name": "Python 3.9.2 64-bit",
   "name": "python3"
  },
  "language_info": {
   "codemirror_mode": {
    "name": "ipython",
    "version": 3
   },
   "file_extension": ".py",
   "mimetype": "text/x-python",
   "name": "python",
   "nbconvert_exporter": "python",
   "pygments_lexer": "ipython3",
   "version": "3.9.2"
  }
 },
 "nbformat": 4,
 "nbformat_minor": 2
}
