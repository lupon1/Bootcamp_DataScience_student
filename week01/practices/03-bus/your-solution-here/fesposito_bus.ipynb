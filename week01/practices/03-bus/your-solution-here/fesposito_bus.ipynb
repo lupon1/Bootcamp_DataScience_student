{
 "cells": [
  {
   "cell_type": "markdown",
   "metadata": {},
   "source": [
    "# Bus\n",
    "\n",
    "Este bus tiene un sistema de control de subida y bajada de pasajeros para monitorizar el número de ocupantes que lleva y así detectar cuando hay un aforo demasiado alto. \n",
    "\n",
    "En cada parada la subida y bajada de pasajeros se representa por una tupla compuesta por dos números enteros. \n",
    "```\n",
    "bus_stop = (in, out)\n",
    "```\n",
    "La sucesión de paradas se representa con una lista estas tuplas.\n",
    "```\n",
    "stops = [(in1, out1), (in2, out2), (in3, out3), (in4, out4)]\n",
    "```\n",
    "\n",
    "## Objetivos: \n",
    "* listas, tuplas\n",
    "* bucles while/for\n",
    "* mínimo, máximo, longitud\n",
    "* media, desviación estandard\n",
    "\n",
    "## Tareas\n",
    "1. Calcula el número de paradas. \n",
    "2. Asigna a una variable una lista cuyos elementos sean el número de pasajeros en cada parada (in-out), \n",
    "3. Halla el máximo de ocupación del autobús. \n",
    "4. Calcula la media de la ocupación. Y la desviación estandard. \n"
   ]
  },
  {
   "cell_type": "code",
   "execution_count": 3,
   "metadata": {},
   "outputs": [
    {
     "name": "stdout",
     "output_type": "stream",
     "text": [
      "El bus ha hecho 9 paradas.\n",
      "Pasajeros por parada: [10, 13, 11, 10, 14, 10, 7, 5, 4]\n",
      "El máximo de ocupación es de 14 pasajeros.\n",
      "La media de ocupación es de 9.33 pasajeros. La desviación estandard es 3.2\n"
     ]
    }
   ],
   "source": [
    "import numpy as np\n",
    "stops = [(10, 0), (4, 1), (3, 5), (3, 4), (5, 1), (1, 5), (5, 8), (4, 6), (2, 3)]\n",
    "\n",
    "# 1. Calcula el número de paradas. \n",
    "print(f'El bus ha hecho {len(stops)} paradas.')\n",
    "\n",
    "# 2. Asigna a una variable una lista cuyos elementos sean el número de pasajeros en \n",
    "# cada parada: Cada elemento depende del elemento previo en la lista + in - out.  \n",
    "pasajeros = 0\n",
    "pasajeros_paradas = []\n",
    "for element in stops:\n",
    "    pasajeros += element[0]\n",
    "    pasajeros -= element[1]\n",
    "    pasajeros_paradas.append(pasajeros)\n",
    "print(f'Pasajeros por parada: {pasajeros_paradas}')\n",
    "\n",
    "# 3. Halla el máximo de ocupación del autobús. \n",
    "max = 0\n",
    "for element in pasajeros_paradas:\n",
    "    if element > max: max = element\n",
    "print(f'El máximo de ocupación es de {max} pasajeros.')\n",
    "\n",
    "# 4. Calcula la media de la ocupación. Y la desviación estandard. \n",
    "media = round(sum(pasajeros_paradas)/len(pasajeros_paradas), 2)\n",
    "sd = round(np.std(pasajeros_paradas), 2)\n",
    "print(f'La media de ocupación es de {media} pasajeros. La desviación estandard es {sd}')\n"
   ]
  }
 ],
 "metadata": {
  "interpreter": {
   "hash": "63fd5069d213b44bf678585dea6b12cceca9941eaf7f819626cde1f2670de90d"
  },
  "kernelspec": {
   "display_name": "Python 3.9.2 64-bit",
   "name": "python3"
  },
  "language_info": {
   "codemirror_mode": {
    "name": "ipython",
    "version": 3
   },
   "file_extension": ".py",
   "mimetype": "text/x-python",
   "name": "python",
   "nbconvert_exporter": "python",
   "pygments_lexer": "ipython3",
   "version": "3.9.2"
  }
 },
 "nbformat": 4,
 "nbformat_minor": 2
}
