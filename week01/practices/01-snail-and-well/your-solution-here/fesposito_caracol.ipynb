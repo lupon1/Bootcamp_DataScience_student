{
 "cells": [
  {
   "cell_type": "markdown",
   "metadata": {},
   "source": [
    "# 01 Caracol y el pozo\n",
    "Un caracol cae en el fondo de un pozo de 125 cm. Cada día el caracol sube 30 cm. pero por la noche, mientras duerme, resbala 20 cm debido a que las paredes son húmedas. ¿Cuantos días tarda en escapar del pozo?"
   ]
  },
  {
   "cell_type": "markdown",
   "metadata": {},
   "source": [
    "Francesco Esposito\n",
    "Octubre 2021"
   ]
  },
  {
   "cell_type": "code",
   "execution_count": 9,
   "metadata": {},
   "outputs": [],
   "source": [
    "# Declaración variables\n",
    "altura_pozo = 125 #cm\n",
    "avance_diario = 30 #cm\n",
    "retroceso_noct = 20 #cm\n",
    "dias = distancia = 0"
   ]
  },
  {
   "cell_type": "code",
   "execution_count": 10,
   "metadata": {},
   "outputs": [
    {
     "name": "stdout",
     "output_type": "stream",
     "text": [
      "El caracol ha tardado 11 días y ha recorrido 325cm para escapar del pozo\n"
     ]
    }
   ],
   "source": [
    "while True:\n",
    "    altura_pozo -= avance_diario # Por el día el caracol sube\n",
    "    distancia += avance_diario # Y acumula distancia\n",
    "    dias += 1 # Pasa otro día\n",
    "    if altura_pozo <= 0: break\n",
    "    altura_pozo += retroceso_noct # Por la noche resbala\n",
    "\n",
    "distancia += altura_pozo\n",
    "print(f'El caracol ha tardado {dias} días y ha recorrido {distancia}cm para escapar del pozo')\n"
   ]
  },
  {
   "cell_type": "markdown",
   "metadata": {},
   "source": [
    "# Bonus\n",
    "La distancia recorrida por el caracol viene ahora definida por una lista. \n",
    "```\n",
    "avance_cm = [30, 21, 33, 77, 44, 45, 23, 45, 12, 34, 55]\n",
    "```\n",
    "¿Cuánto tarda en subir el pozo?\n",
    "¿Cuál es su máximo de desplazamiento en un día? ¿Y su mínimo?\n",
    "¿Cuál es su media de velocidad durante el día?\n",
    "¿Cuál es la desviación típica de su desplazamiento durante el día?"
   ]
  },
  {
   "cell_type": "code",
   "execution_count": 11,
   "metadata": {},
   "outputs": [],
   "source": [
    "# Declaración variables\n",
    "altura_pozo = 125 #cm\n",
    "avance_cm = [30, 21, 33, 77, 44, 45, 23, 45, 12, 34, 55]\n",
    "retroceso_noct = 20 #cm\n",
    "dias = media = suma_cuads = 0\n",
    "min = max = avance_cm[0]"
   ]
  },
  {
   "cell_type": "code",
   "execution_count": 12,
   "metadata": {},
   "outputs": [
    {
     "name": "stdout",
     "output_type": "stream",
     "text": [
      "El caracol tarda 5 días en salir del pozo.\n",
      "La distancia máxima recorrida en un día es de 77cm. La mínima de 21cm.\n",
      "La velocidad media es de 41cm/día.\n",
      "La desviación estandar es: 19.44\n"
     ]
    }
   ],
   "source": [
    "for element in avance_cm:\n",
    "    altura_pozo -= element # Le resto a la altura del pozo la recorrida en el día\n",
    "    dias += 1 # Otro dia pasa\n",
    "    media += element # Sumo la distancia recorrida para luego calcular la media\n",
    "    if element > max: max = element # Me quedo con el valor máximo\n",
    "    if element < min: min = element # Me quedo con el valor minimo\n",
    "    if altura_pozo <= 0: break # Si se llega al final del pozo termina el ciclo for\n",
    "    altura_pozo += retroceso_noct # Y sino, el caracol resbala para abajo\n",
    "\n",
    "media = int(media/dias) # Saco el promedio\n",
    "\n",
    "# Calculo de la desviación estándar\n",
    "# Seguramente hay algúna función de numpy para calcularla....\n",
    "# pero prefiero hacerlo manualmente para entenderla mejor\n",
    "for index in range(dias):\n",
    "     resta = avance_cm[index] - media\n",
    "     cuad = resta ** 2\n",
    "     suma_cuads += cuad\n",
    "sd = round((suma_cuads / dias) ** 0.5, 2)\n",
    "\n",
    "# Imprimo en pantalla los resultados\n",
    "print(f'El caracol tarda {dias} días en salir del pozo.')\n",
    "print(f'La distancia máxima recorrida en un día es de {max}cm. La mínima de {min}cm.')\n",
    "print(f'La velocidad media es de {media}cm/día.')\n",
    "print(f'La desviación estandar es: {sd}')"
   ]
  }
 ],
 "metadata": {
  "interpreter": {
   "hash": "63fd5069d213b44bf678585dea6b12cceca9941eaf7f819626cde1f2670de90d"
  },
  "kernelspec": {
   "display_name": "Python 3.9.2 64-bit",
   "name": "python3"
  },
  "language_info": {
   "codemirror_mode": {
    "name": "ipython",
    "version": 3
   },
   "file_extension": ".py",
   "mimetype": "text/x-python",
   "name": "python",
   "nbconvert_exporter": "python",
   "pygments_lexer": "ipython3",
   "version": "3.9.2"
  },
  "orig_nbformat": 4
 },
 "nbformat": 4,
 "nbformat_minor": 2
}
