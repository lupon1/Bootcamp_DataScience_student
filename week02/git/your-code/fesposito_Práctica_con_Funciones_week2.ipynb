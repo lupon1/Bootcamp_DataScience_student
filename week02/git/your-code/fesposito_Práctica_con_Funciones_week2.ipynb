{
  "cells": [
    {
      "cell_type": "markdown",
      "metadata": {
        "id": "4abFo-hx9rUg"
      },
      "source": [
        "# Prácticas con funciones, `*args`, `**kwargs`"
      ]
    },
    {
      "cell_type": "code",
      "execution_count": 2,
      "metadata": {
        "id": "_YsLIUkoJeoy"
      },
      "outputs": [],
      "source": [
        "# Realizamos un testing con Python, para ello cargamos la librería\n",
        "from mod.testing import *\n",
        "import unittest"
      ]
    },
    {
      "cell_type": "markdown",
      "metadata": {
        "id": "jRQzFc3MIWty"
      },
      "source": [
        "## Ejercicio 1. \n",
        "\n",
        "Escribe una función que devuelva el mayor de dos números"
      ]
    },
    {
      "cell_type": "code",
      "execution_count": 2,
      "metadata": {
        "id": "f9r2L2kzIgvK"
      },
      "outputs": [
        {
          "data": {
            "text/plain": [
              "9"
            ]
          },
          "execution_count": 2,
          "metadata": {},
          "output_type": "execute_result"
        }
      ],
      "source": [
        "def greater(a,b):\n",
        "  '''\n",
        "  Una función para elegir el mayor de dos números\n",
        "\n",
        "  Args:\n",
        "  a, b (int): dos números enteros\n",
        "\n",
        "  Returns:\n",
        "  int: el número mayor entre a y b \n",
        "  '''\n",
        "  try:\n",
        "    a = int(a)\n",
        "    b = int(b)\n",
        "    return a if a > b else b\n",
        "  except ValueError:\n",
        "    print('Los números dados no son enteros')\n",
        "\n",
        "greater(7, 9)"
      ]
    },
    {
      "cell_type": "code",
      "execution_count": 10,
      "metadata": {
        "id": "b5BWgdLXIg7Q"
      },
      "outputs": [],
      "source": [
        "# Testing de la función\n",
        "test_greater(greater)"
      ]
    },
    {
      "cell_type": "markdown",
      "metadata": {
        "id": "_AeMh07lIl4l"
      },
      "source": [
        "## Ejercicio 2. \n",
        "\n",
        "Ahora escribe una función que devuelva el elemento más grande en una lista."
      ]
    },
    {
      "cell_type": "code",
      "execution_count": 3,
      "metadata": {
        "id": "SqR86AWOImU3"
      },
      "outputs": [
        {
          "data": {
            "text/plain": [
              "643.56"
            ]
          },
          "execution_count": 3,
          "metadata": {},
          "output_type": "execute_result"
        }
      ],
      "source": [
        "def greatest(arr):\n",
        "  '''\n",
        "  Una función para devolver el elemento más grande de una lista\n",
        "\n",
        "  Args:\n",
        "  arr (list): una lista de elementos. Solo es posible comparar cadenas\n",
        "              con cadenas o enteros con flotantes y booleanos.\n",
        "\n",
        "  Returns:\n",
        "  ?: el elemento más grande de la lista \n",
        "  '''\n",
        "\n",
        "  try:\n",
        "    return max(arr)\n",
        "  except TypeError:\n",
        "    print('No es posible comparar cadenas con otros tipos de elementos')\n",
        "\n",
        "lista = [35.9, 535, 239, 521, 643.56, False]\n",
        "greatest(lista)"
      ]
    },
    {
      "cell_type": "code",
      "execution_count": 13,
      "metadata": {
        "id": "m7y3_mgFIma6"
      },
      "outputs": [],
      "source": [
        "# This will test your function \n",
        "test_greatest(greatest)"
      ]
    },
    {
      "cell_type": "markdown",
      "metadata": {
        "id": "Y4PNBeJDIpvu"
      },
      "source": [
        "## Ejercicio 3. \n",
        "Escribe una función que sume todos los elementos de una lista"
      ]
    },
    {
      "cell_type": "code",
      "execution_count": 4,
      "metadata": {
        "id": "XFLhNIiOIqKb"
      },
      "outputs": [
        {
          "data": {
            "text/plain": [
              "18.3"
            ]
          },
          "execution_count": 4,
          "metadata": {},
          "output_type": "execute_result"
        }
      ],
      "source": [
        "def sum_all(arr):\n",
        "    '''\n",
        "    Una función para sumar todos los números de una lista\n",
        "\n",
        "    Args:\n",
        "    arr (list): una lista de números enteros, flotantes y/o booleanos\n",
        "\n",
        "    Returns:\n",
        "    float or int: la suma de todos los elementos \n",
        "    '''\n",
        "\n",
        "    try:\n",
        "        return sum(arr)\n",
        "    except TypeError:\n",
        "        print('Algún elemento no es entero, flotante o booleano')\n",
        "    \n",
        "lista = [5, 9, 3.3, True]\n",
        "sum_all(lista)"
      ]
    },
    {
      "cell_type": "code",
      "execution_count": null,
      "metadata": {
        "id": "ejLtaq3WIqTY"
      },
      "outputs": [],
      "source": [
        "# This will test your function \n",
        "test_sum(sum_all)"
      ]
    },
    {
      "cell_type": "markdown",
      "metadata": {
        "id": "JLpVEYHyIsXx"
      },
      "source": [
        "## Ejercicio 4. \n",
        "\n",
        "Escribe otra función que multiplique todos los elementos de una lista\n"
      ]
    },
    {
      "cell_type": "markdown",
      "metadata": {},
      "source": []
    },
    {
      "cell_type": "code",
      "execution_count": 9,
      "metadata": {
        "id": "M9IGNzOOIwvK"
      },
      "outputs": [
        {
          "data": {
            "text/plain": [
              "54.0"
            ]
          },
          "execution_count": 9,
          "metadata": {},
          "output_type": "execute_result"
        }
      ],
      "source": [
        "def mult_all(arr):\n",
        "    '''\n",
        "    Una función para multiplicar todos los elementos de una lista\n",
        "\n",
        "    Args:\n",
        "    arr (list): una lista de números enteros, flotantes y/o booleanos\n",
        "\n",
        "    Returns:\n",
        "    float or int: el producto entre todos los números \n",
        "    '''\n",
        "\n",
        "    from functools import reduce\n",
        "    try:\n",
        "        return reduce(lambda a, b: a * b, arr)\n",
        "    except TypeError:\n",
        "        print('Algún elemento no es entero, flotante o booleano')\n",
        "\n",
        "list = [1.5, 2, 3, 6]\n",
        "mult_all(list)"
      ]
    },
    {
      "cell_type": "code",
      "execution_count": null,
      "metadata": {
        "id": "HsqRayDlIsyl"
      },
      "outputs": [],
      "source": [
        "# This will test your function \n",
        "test_mult(mult_all)"
      ]
    },
    {
      "cell_type": "markdown",
      "metadata": {
        "id": "BYmCpQgpIxoG"
      },
      "source": [
        "## Ejercicio 5. \n",
        "\n",
        "Ahora combine esas dos ideas y escriba una función que reciba una lista y \"+\" o \"*\" y genere los resultados correspondientes"
      ]
    },
    {
      "cell_type": "code",
      "execution_count": 41,
      "metadata": {
        "id": "97LN3heSI16o"
      },
      "outputs": [
        {
          "data": {
            "text/plain": [
              "10"
            ]
          },
          "execution_count": 41,
          "metadata": {},
          "output_type": "execute_result"
        }
      ],
      "source": [
        "def oper_all(arr, oper):\n",
        "    '''\n",
        "    Una funcion para calcular la suma o el producto de todos los elementos de una lista\n",
        "\n",
        "    Args:\n",
        "    arr (list): una lista de números enteros, flotantes y/o booleanos\n",
        "    oper (string): el operador para elegir el tipo de calculo (\"+\" o \"*\")\n",
        "\n",
        "    Returns:\n",
        "    float or int: la suma o el producto de todos los números de la lista\n",
        "    '''\n",
        "\n",
        "    from functools import reduce\n",
        "    def sum_or_prod(a, b):\n",
        "        try:\n",
        "            if oper == '+':\n",
        "                return a + b\n",
        "            elif oper == '*':\n",
        "                return a * b\n",
        "            else:\n",
        "                return 'El operador elegido no es válido'\n",
        "        except TypeError:\n",
        "            print('Algún elemento no es entero, flotante o booleano')\n",
        "    \n",
        "    return reduce(sum_or_prod, arr)\n",
        "\n",
        "\n",
        "oper_all([1, 2, 3, 4], '+')"
      ]
    },
    {
      "cell_type": "code",
      "execution_count": null,
      "metadata": {
        "id": "ejAlaP86I2C3"
      },
      "outputs": [],
      "source": [
        "# This will test your function \n",
        "test_operations(oper_all)"
      ]
    },
    {
      "cell_type": "markdown",
      "metadata": {
        "id": "2PowcDr6I443"
      },
      "source": [
        "## Ejercicio 6. \n",
        "\n",
        "Escribe una función que devuelva el factorial de un número.*texto en cursiva*"
      ]
    },
    {
      "cell_type": "code",
      "execution_count": 18,
      "metadata": {
        "id": "B-otytbAI5Sg"
      },
      "outputs": [
        {
          "data": {
            "text/plain": [
              "5040"
            ]
          },
          "execution_count": 18,
          "metadata": {},
          "output_type": "execute_result"
        }
      ],
      "source": [
        "def factorial(n):\n",
        "    '''\n",
        "    Una función para calcular el factorial de un número\n",
        "\n",
        "    Args:\n",
        "    n (int): un número entero\n",
        "\n",
        "    Returns:\n",
        "    int: el factorial del número\n",
        "    '''\n",
        "\n",
        "    try:\n",
        "        n = int(n)\n",
        "    except ValueError:\n",
        "        return 'El parametro dado no es un entero'\n",
        "    else:\n",
        "        if n == 0:\n",
        "            return 1\n",
        "        else:\n",
        "            from functools import reduce\n",
        "            l = [*range(1, n+1)]\n",
        "            return reduce(lambda a, b: a * b, l)\n",
        "\n",
        "factorial(7)"
      ]
    },
    {
      "cell_type": "code",
      "execution_count": null,
      "metadata": {
        "id": "DVCtX-tRI5U7"
      },
      "outputs": [],
      "source": [
        "# This will test your function \n",
        "test_factorial(factorial)"
      ]
    },
    {
      "cell_type": "markdown",
      "metadata": {
        "id": "dBdlTKDwI_7a"
      },
      "source": [
        "## Ejercicio 7. \n",
        "\n",
        "Escribe una función que tome una lista y devuelva una lista de valores únicos.\n",
        "\n",
        "`NOTA: No puede utilizar set. 🤔`\n"
      ]
    },
    {
      "cell_type": "code",
      "execution_count": 112,
      "metadata": {
        "id": "iZdjA3aaJDP9"
      },
      "outputs": [
        {
          "data": {
            "text/plain": [
              "[1, 2, 3, 4, 5, 6, 7, 'hola', 'que', 'tal']"
            ]
          },
          "execution_count": 112,
          "metadata": {},
          "output_type": "execute_result"
        }
      ],
      "source": [
        "def unique(arr):\n",
        "    '''\n",
        "    Una función que devuelve una lista con valores únicos\n",
        "\n",
        "    Args:\n",
        "    arr (list): una lista con cualquier tipo de elementos\n",
        "\n",
        "    Returns:\n",
        "    list = una lista con valores únicos\n",
        "    '''\n",
        "\n",
        "    return [*dict.fromkeys(arr)]\n",
        "\n",
        "\n",
        "unique([1, 2, 3, 2, 3, 4, 5, 6, 4, 7, 'hola', 'que', 'que', 'tal'])"
      ]
    },
    {
      "cell_type": "code",
      "execution_count": null,
      "metadata": {
        "id": "gRXrRK6mkPdV"
      },
      "outputs": [],
      "source": [
        "# This will test your function \n",
        "test_unique(unique)"
      ]
    },
    {
      "cell_type": "markdown",
      "metadata": {
        "id": "WGHWrSt8JGw_"
      },
      "source": [
        "## Ejercicio 8. \n",
        "\n",
        "Escribe una función que devuelva la moda de una lista, es decir: el elemento que aparece más veces.\n",
        "\n",
        "`NOTA: No debe usar count ... 🧐`"
      ]
    },
    {
      "cell_type": "code",
      "execution_count": 129,
      "metadata": {
        "id": "B2tWkv71JHdD"
      },
      "outputs": [
        {
          "data": {
            "text/plain": [
              "4"
            ]
          },
          "execution_count": 129,
          "metadata": {},
          "output_type": "execute_result"
        }
      ],
      "source": [
        "def mode_counter(arr):\n",
        "    '''\n",
        "    Una función que devuelve la moda de una lista\n",
        "\n",
        "    Args:\n",
        "    arr (list): una lista con cualquier tipo de elementos\n",
        "\n",
        "    Returns:\n",
        "    * = el elemento que aparece más veces\n",
        "    '''\n",
        "    \n",
        "    d = dict.fromkeys(arr, 0)\n",
        "    for key in arr:\n",
        "        d[key] += 1\n",
        "    return max(d, key=d.get)\n",
        "    \n",
        "mode_counter([3, 4, 5, 3, 7, 3, 7, 9, 0, 4, 5, 4, 0, 'tres', 4, 5, 3, 0, 'cuatro', 4])"
      ]
    },
    {
      "cell_type": "code",
      "execution_count": 124,
      "metadata": {
        "id": "8M2eP1E0JHn8"
      },
      "outputs": [],
      "source": [
        "# This will test your function \n",
        "test_mode(mode_counter)"
      ]
    },
    {
      "cell_type": "markdown",
      "metadata": {
        "id": "SVa8gHqlJIRk"
      },
      "source": [
        "## Ejercicio 9. \n",
        "\n",
        "Escribe una función que calcule la desviación estándar de una lista.\n",
        "\n",
        "`NOTA: No utilice bibliotecas ni funciones ya creadas. 😉`"
      ]
    },
    {
      "cell_type": "code",
      "execution_count": 137,
      "metadata": {
        "id": "Py-u_g3bJLPN"
      },
      "outputs": [
        {
          "data": {
            "text/plain": [
              "1.59"
            ]
          },
          "execution_count": 137,
          "metadata": {},
          "output_type": "execute_result"
        }
      ],
      "source": [
        "def st_dev(arr):\n",
        "    '''\n",
        "    Una función para calcular la desviación tipica de una lista \n",
        "\n",
        "    Args:\n",
        "    arr (list): una lista con números enteros o flotantes\n",
        "\n",
        "    Returns:\n",
        "    int or float = la desviación estándar\n",
        "    '''\n",
        "    try:\n",
        "        media = sum(arr)/len(arr)\n",
        "        suma_cuads = 0\n",
        "        for index in range(len(arr)):\n",
        "            resta = arr[index] - media\n",
        "            cuad = resta ** 2\n",
        "            suma_cuads += cuad\n",
        "        return round((suma_cuads / (len(arr))) ** 0.5, 2)\n",
        "    except TypeError:\n",
        "        return 'Hay elementos de la lista que no son enteros o flotantes'\n",
        "\n",
        "st_dev([1, 2, 3, 4, 5, 5.5])"
      ]
    },
    {
      "cell_type": "code",
      "execution_count": null,
      "metadata": {
        "id": "i0Vp9vZSJHra"
      },
      "outputs": [],
      "source": [
        "# This will test your function \n",
        "test_stdev(st_dev)"
      ]
    },
    {
      "cell_type": "markdown",
      "metadata": {
        "id": "bJOByTLZJOru"
      },
      "source": [
        "## Ejercicio 10. \n",
        "\n",
        "Escribe una función para comprobar si una cadena es un pangrama, es decir: si contiene todas las letras del alfabeto al menos una vez. Tenga en cuenta que las cadenas pueden contener caracteres que no sean letras."
      ]
    },
    {
      "cell_type": "code",
      "execution_count": 1,
      "metadata": {
        "id": "rl0xqfvJJPGs"
      },
      "outputs": [
        {
          "name": "stdout",
          "output_type": "stream",
          "text": [
            "True\n"
          ]
        }
      ],
      "source": [
        "# He tenido que escribir una función para sustituir las letras con tilde por su versión sin tilde\n",
        "def repl(cadena, b, g):\n",
        "    '''\n",
        "    Una función para sustituir caracteres de una cadena\n",
        "\n",
        "    Args:\n",
        "    cadena (str) = la cadena que hay que modificar\n",
        "    b (list) = una lista con los elementos que hay que sustuir\n",
        "    g (list) = una lista con los elementos que van a reemplazar los anteriores\n",
        "    Warning! Las listas 'b' y 'g' tienen que tener el mismo número de elementos\n",
        "\n",
        "    Return:\n",
        "    (str) La cadena con los elementos sostituidos\n",
        "    '''\n",
        "    \n",
        "    if len(b) == len(g):\n",
        "        for i in range(0, len(b)):\n",
        "            cadena = cadena.replace(b[i], g[i])\n",
        "        return cadena\n",
        "    else:\n",
        "        return 'Las listas de los elementos a sustituir no son de la misma longitud'\n",
        "\n",
        "def pangram(string):\n",
        "    '''\n",
        "    Una función para comprobar si una frase es un pangrama\n",
        "\n",
        "    Args:\n",
        "    string (str): Una stringa con la frase que querremos analizar\n",
        "\n",
        "    Returns:\n",
        "    boolean = True se è un pangrama y False si no lo es\n",
        "    '''\n",
        "    latinAlphabet = ['a', 'b', 'c', 'd', 'e', 'f', 'g', 'h', 'i', 'j', 'k', 'l', 'm', 'n', 'ñ', 'o', 'p', 'q', 'r', 's', 't', 'u', 'v', 'w', 'x', 'y', 'z']\n",
        "    repetionDict = dict.fromkeys(latinAlphabet, 0)\n",
        "    bads = ['á', 'é', 'í', 'ó', 'ú', 'ü']\n",
        "    goods = ['a', 'e', 'i', 'o', 'u', 'u']\n",
        "    string = repl(string.lower(), bads, goods)\n",
        "    for letter in string:\n",
        "        if letter in latinAlphabet:\n",
        "            repetionDict[letter] += 1 \n",
        "    return False if 0 in repetionDict.values() else True\n",
        "\n",
        "pan_phrase = 'El veloz murciélago hindú comía feliz cardillo y kiwi. La cigüeña tocaba el saxofón detrás del palenque de paja'\n",
        "print(pangram(pan_phrase))"
      ]
    },
    {
      "cell_type": "code",
      "execution_count": null,
      "metadata": {
        "id": "3ekoSk-jkXjH"
      },
      "outputs": [],
      "source": [
        "# This will test your function \n",
        "test_pangram(pangram)"
      ]
    },
    {
      "cell_type": "markdown",
      "metadata": {
        "id": "by8wug_YJQ_N"
      },
      "source": [
        "## Ejercicio 11. \n",
        "\n",
        "Escriba una función que reciba una cadena de palabras separadas por comas y devuelva una cadena de palabras separadas por comas ordenadas alfabéticamente.\n",
        "\n",
        "`NOTA: ¡Puede usar ordenado pero no dividido(split?) y definitivamente sin unión(join?) 🤪`"
      ]
    },
    {
      "cell_type": "code",
      "execution_count": 94,
      "metadata": {
        "id": "l49kAVnGJURm"
      },
      "outputs": [
        {
          "data": {
            "text/plain": [
              "'Arrendajo, Buitre, Cernicalo, Dodo, Estornino, Flamenco, Gavilán'"
            ]
          },
          "execution_count": 94,
          "metadata": {},
          "output_type": "execute_result"
        }
      ],
      "source": [
        "def sort_alpha(string):\n",
        "    '''\n",
        "    Una función que devuelve una cadena de palabras separadas por comas ordenadas alfabéticamente \n",
        "\n",
        "    Args:\n",
        "    string (str): una stringa de palabras separadas por comas (es posible usar o no un espacio después de la coma)\n",
        "\n",
        "    Returns:\n",
        "    str = la misma cadena de palabras pero ordenada alfabéticamente\n",
        "    \n",
        "    '''\n",
        "    stringList = []\n",
        "    while string != '':\n",
        "        if string.find(' ') >= 0:\n",
        "            i = string.find(' ')\n",
        "            stringList.append(string[:i-1])\n",
        "            string = string[i+1:]\n",
        "        elif string.find(',') >= 0:\n",
        "            i = string.find(',')\n",
        "            stringList.append(string[:i])\n",
        "            string = string[i+1:]\n",
        "        else:\n",
        "            stringList.append(string)\n",
        "            string = ''\n",
        "    stringList.sort()\n",
        "    index = 1\n",
        "    for element in stringList:\n",
        "        if index == len(stringList):\n",
        "            string += element\n",
        "        else:\n",
        "            string += element + ', ' \n",
        "        index += 1\n",
        "    return string\n",
        "\n",
        "birds = 'Dodo, Estornino, Gavilán, Cernicalo, Flamenco, Buitre, Arrendajo'\n",
        "sort_alpha(birds)"
      ]
    },
    {
      "cell_type": "code",
      "execution_count": 10,
      "metadata": {
        "id": "VDGl325vJUhz"
      },
      "outputs": [],
      "source": [
        "# This will test your function \n",
        "# test_alpha(sort_alpha)"
      ]
    },
    {
      "cell_type": "markdown",
      "metadata": {
        "id": "c-3m3bF2JXyW"
      },
      "source": [
        "## Ejercicio 12. \n",
        "\n",
        "Escribe una función para verificar si una contraseña dada es segura (al menos 8 caracteres, al menos una minúscula, al menos una mayúscula, al menos un número y al menos un carácter especial). Debería mostrar True si es fuerte y False si no.\n",
        "`Caracteres especiales válidos: # @! $% & () ^ * [] {} `"
      ]
    },
    {
      "cell_type": "code",
      "execution_count": 102,
      "metadata": {
        "id": "UQaYKsFdJYma"
      },
      "outputs": [
        {
          "data": {
            "text/plain": [
              "False"
            ]
          },
          "execution_count": 102,
          "metadata": {},
          "output_type": "execute_result"
        }
      ],
      "source": [
        "def check_pass(string):\n",
        "    '''\n",
        "    Una función para verificar si una contraseña es segura. Los criterios que hay que cumplir son 5:\n",
        "    1. Al menos 8 caracteres;\n",
        "    2. Al menos una minúscula;\n",
        "    3. Al menos una mayúscula;\n",
        "    4. Al menos un número;\n",
        "    5. Que tenga al menos un caracter especial entre éstos: # @! $% & () ^ * [] {}\n",
        "\n",
        "    Args:\n",
        "    string (str): la contraseña que hay que analizar\n",
        "\n",
        "    Returns:\n",
        "    bool = True si es segura y False si no lo es\n",
        "    '''\n",
        "\n",
        "    spec_chars = ['#', '@', '!', '$', '%', '&', '(', ')', '^', '*', '[', ']', '{', '}']\n",
        "    length = minus = mayus = numb = spec = False\n",
        "    if len(string) >= 8: length = True\n",
        "    for letter in string:\n",
        "        if letter.islower(): minus = True\n",
        "        if letter.isupper(): mayus = True\n",
        "        if letter.isnumeric(): numb = True\n",
        "        if letter in spec_chars: spec = True\n",
        "    return True if length + minus + mayus + numb + spec == 5 else False\n",
        "\n",
        "check_pass('pass1234')"
      ]
    },
    {
      "cell_type": "code",
      "execution_count": 16,
      "metadata": {
        "id": "y1DIEdDDkcqL"
      },
      "outputs": [],
      "source": [
        "# This will test your function \n",
        "test_pass(check_pass)"
      ]
    },
    {
      "cell_type": "markdown",
      "metadata": {
        "id": "zGGHb7nd84mT"
      },
      "source": [
        "***\n",
        "\n",
        "# Prácticas con Lambda, Map, Reduce, Filter, `*args`, `**kwargs`\n",
        "\n",
        "Realizar los ejercicios con los comandos indicados. \n",
        "Efectuar el testing con `try...except`"
      ]
    },
    {
      "cell_type": "markdown",
      "metadata": {
        "id": "ssCsrv9a3KO-"
      },
      "source": [
        "## Ejercicio 13 \n",
        "\n",
        "Definid una función que reciba como parámetros dos valores $(x \\quad y)$ que serán dos vectores de enteros, y devuelva la `distancia euclídea` entre los puntos representados por los vectores. Es necesario que el cuerpo de la función contenga una única expresión, que calcule y devuelva el resultado. Los vectores pueden tener un tamaño arbitrario, pero ambos vectores tendrán el mismo número de elementos. **Solo se pueden utilizar funciones de la librería estándar de Python**."
      ]
    },
    {
      "cell_type": "code",
      "execution_count": 50,
      "metadata": {
        "id": "MgfmsIve3OU9"
      },
      "outputs": [],
      "source": [
        "# Me imagino que nos referimos a la distancia euclídea en un plano unidimensional. Si no es así, no me ha quedado claro el ejercicio\n",
        "def dis_euc(x, y):\n",
        "    '''\n",
        "    Functión para calcular la distancia euclídea entre dos puntos\n",
        "\n",
        "    Args:\n",
        "    x (list) = un vector de números enteros con los puntos A\n",
        "    y (list) = otro vector de números enteros con los puntos B\n",
        "\n",
        "    Return:\n",
        "    (list) = una lista con la distancia euclídea entre todos los puntos de los vectores X y Y\n",
        "    Warning: las dos listas deben tener la misma longitud\n",
        "    '''\n",
        "\n",
        "    if len(x) == len(y):\n",
        "        try:\n",
        "            return [*map(lambda x, y: int(((x-y)**2)**0.5), x, y)]\n",
        "        except TypeError:\n",
        "            return 'Algún elemento de los vectores no es un número entero'\n",
        "    else:\n",
        "        return 'Los dos vectores no tienen la misma longitud'"
      ]
    },
    {
      "cell_type": "code",
      "execution_count": 51,
      "metadata": {
        "id": "MpM-B3BY3QyU"
      },
      "outputs": [
        {
          "name": "stdout",
          "output_type": "stream",
          "text": [
            "[6, 8, 18, 21, 19, 35]\n"
          ]
        }
      ],
      "source": [
        "x = [3, 5, 9, 12, 34, 97]\n",
        "y = [9, 13, 27, 33, 15, 62]\n",
        "\n",
        "print(dis_euc(x, y))"
      ]
    },
    {
      "cell_type": "markdown",
      "metadata": {
        "id": "wNwKmJH43PV5"
      },
      "source": [
        "## Ejercicio 14\n",
        "\n",
        "Definid una función que reciba como parámetros dos valores $(x \\quad y)$ que serán dos vectores de enteros, y devuelva la `distancia de Manhattan` entre los puntos representados por los vectores. Es necesario que el cuerpo de la función contenga una única expresión, que calcule y devuelva el resultado. Los vectores pueden tener un tamaño arbitrario, pero ambos vectores tendrán el mismo número de elementos. **Solo se pueden utilizar funciones de la librería estándar de Python**."
      ]
    },
    {
      "cell_type": "code",
      "execution_count": 29,
      "metadata": {
        "id": "MgLQxG6e3iCE"
      },
      "outputs": [],
      "source": [
        "# No me queda muy claro el ejercicio"
      ]
    },
    {
      "cell_type": "code",
      "execution_count": null,
      "metadata": {
        "id": "wxk3y86kpLhB"
      },
      "outputs": [],
      "source": []
    },
    {
      "cell_type": "markdown",
      "metadata": {
        "id": "DHlGi-ja3iq8"
      },
      "source": [
        "## Ejercicio 15\n",
        "\n",
        "Definid una función `compute_all_distances` que reciba como parámetros dos valores $(x \\quad y)$ que serán dos vectores de enteros, y devuelva una tupla de dos elementos, con las `distancias euclidiana` y `distancia de Manhattan` entre los puntos representados por los vectores. Los vectores pueden tener un tamaño arbitrario, pero ambos vectores tendrán el mismo número de elementos. **Solo se pueden utilizar funciones de la librería estándar de Python**.\n",
        "\n",
        "Para ello, encapsulad el código de las funciones de las actividades anteriores dentro de la función `compute_all_distances`."
      ]
    },
    {
      "cell_type": "code",
      "execution_count": 30,
      "metadata": {
        "id": "2lndEgF25jTt"
      },
      "outputs": [],
      "source": [
        "# No me queda muy claro el ejercicio"
      ]
    },
    {
      "cell_type": "code",
      "execution_count": null,
      "metadata": {
        "id": "y33uRX2F5jbR"
      },
      "outputs": [],
      "source": []
    },
    {
      "cell_type": "markdown",
      "metadata": {
        "id": "u6_HF5lg5j7o"
      },
      "source": [
        "## Ejercicio 16\n",
        "\n",
        "En la frutería del barrio tienen un problema que requiere de nuestra ayuda. Reiteradamente, se les rompen las estanterías donde ponen las naranjas, y quieren evitar que esto vuelva a pasar. Han calculado que los estantes de madera soportan sin problemas un peso de `50 kilos`, y los de plástico `30 kilos`, pero siempre dudan de si pueden añadir algún piso de naranjas más (ya que esto siempre luce más delante de los clientes).\n",
        "\n",
        "Las naranjas se encuentran apiladas en una pirámide de base cuadrada. Así pues, en lo alto hay una sola naranja, en el segundo piso hay 4, en el tercer piso hay 9, etc. Los pisos siempre están completos. \n",
        "\n",
        "Definid una función que reciba como parámetros el número de pisos de naranjas que quieren hacer, el peso medio de cada naranja, y el tipo de material del estante, y devuelva un booleano indicando si el estante aguantará el peso o no. \n",
        "\n",
        "La función siempre recibirá el número de pisos de naranjas, pero los parámetros de peso medio y material son opcionales, y tomarán un valor por defecto de 0.2 y madera (\"Wood\"), respectivamente."
      ]
    },
    {
      "cell_type": "code",
      "execution_count": 24,
      "metadata": {
        "id": "7n8byYBG56um"
      },
      "outputs": [
        {
          "name": "stdout",
          "output_type": "stream",
          "text": [
            "Número de pisos: 8\n",
            "Número total de naranjas: 204\n",
            "Peso total de las naranjas: 51.0kg\n",
            "Material de la estantería: wood\n"
          ]
        },
        {
          "data": {
            "text/plain": [
              "False"
            ]
          },
          "execution_count": 24,
          "metadata": {},
          "output_type": "execute_result"
        }
      ],
      "source": [
        "def orange_calculator(pisos, peso=0.2, material='wood', verbose=False):\n",
        "    '''\n",
        "    Una función para calcular el número máximo de naranjas que puede aguantar una estantería, dependiendo de su material\n",
        "\n",
        "    Args:\n",
        "    pisos (int): el número de pisos de naranjas que se quieren colocar en la estantería\n",
        "    **peso (int or float): el peso promedio de cada naranja (por defecto 0.2kg)\n",
        "    **material (str): el material de la estantería, por defecto es madera(wood) pero también puede ser en plastico(plastic)\n",
        "    **verbose(boolean): si es True imprime en pantalla más informaciones\n",
        "\n",
        "    Returns:\n",
        "    bool: True si la estantería aguanta el peso, False si no aguanta (por defecto False)\n",
        "    '''\n",
        "\n",
        "    naranjas = sum(map(lambda x: x ** 2, [*range(1, pisos+1)]))\n",
        "    peso_total = naranjas * peso\n",
        "    if verbose == True:\n",
        "        print(f'Número de pisos: {pisos}')\n",
        "        print(f'Número total de naranjas: {naranjas}')\n",
        "        print(f'Peso total de las naranjas: {round(peso_total, 2)}kg')\n",
        "        print(f'Material de la estantería: {material}')\n",
        "    if material == 'wood': return True if peso_total <= 50 else False\n",
        "    elif material == 'plastic': return True if peso_total <= 30 else False\n",
        "    else: return 'No reconozco éste material'\n",
        "    \n",
        "orange_calculator(8, peso=0.25, verbose=True)"
      ]
    },
    {
      "cell_type": "markdown",
      "metadata": {
        "id": "A00mt51F59JY"
      },
      "source": [
        "## Ejercicio 16\n",
        "\n",
        " \n",
        "Definid una función que pueda recibir un número de parámetros cualquiera, superior a 1, y que devuelva el resultado de sumar el resultado de aplicar la función que recibe como primer parámetro a cada uno de los otros parámetros.\n",
        "\n",
        "Por ejemplo, si la función recibe como primer argumento una función que calcula cuadrados, como segundo argumento un 5, y como tercer argumento un 10, debería devolver 52+102=125.\n",
        "\n",
        "Llamad a la función definida con los valores del ejemplo mencionado en el enunciado, y comprobad que se obtiene el resultado correcto. Comprobad también que la función devuelve los resultados esperados para una llamada con dos argumentos y con cinco argumentos."
      ]
    },
    {
      "cell_type": "code",
      "execution_count": 22,
      "metadata": {
        "id": "eggXc0YK560r"
      },
      "outputs": [
        {
          "name": "stdout",
          "output_type": "stream",
          "text": [
            "113\n"
          ]
        }
      ],
      "source": [
        "def cuadrados(n):\n",
        "    '''\n",
        "    Una sencilla función para calcular el cuadrado de un número entero\n",
        "    \n",
        "    Args:\n",
        "    n (int) = un número entero\n",
        "    \n",
        "    Returns:\n",
        "    (int) = el cuadrado del número recibido como parametro\n",
        "    '''\n",
        "    try:\n",
        "        n = int(n)\n",
        "    except:\n",
        "        return 'El parametro recibido no es un entero'\n",
        "    else:\n",
        "        return n ** 2\n",
        "\n",
        "def add_func(func, *n):\n",
        "    '''\n",
        "    Una función que devuelve la suma de los resultados dados de la función que se le pasa como primer argumento\n",
        "\n",
        "    Args:\n",
        "    func (function) = una cualquier función\n",
        "    *n = un número cualquiera de enteros\n",
        "\n",
        "    Returns:\n",
        "\n",
        "    (int) = la suma de todos los resultados de la función que se le ha dado como parametro\n",
        "    '''\n",
        "    if str(type(func)) == \"<class 'function'>\":\n",
        "        try:\n",
        "            s = sum(list(n))\n",
        "            return sum(list(map(func, n)))\n",
        "        except TypeError:\n",
        "            return 'Alguno de los parametros pasados no son enteros. Revisalo por favor'\n",
        "    else:\n",
        "        return 'El primer parametro debe ser una función'\n",
        "\n",
        "print(add_func(cuadrados, 2, 10, 3.3))"
      ]
    },
    {
      "cell_type": "markdown",
      "metadata": {
        "id": "tSmqef3X6CIq"
      },
      "source": [
        "## Ejercicio 17\n",
        "\n",
        " \n",
        "Definid una función que reciba dos parámetros, una lista de enteros y un entero, y devuelva una lista con los mismos elementos que la lista original eliminando todas las apariciones del entero especificado."
      ]
    },
    {
      "cell_type": "code",
      "execution_count": 6,
      "metadata": {
        "id": "HJ3RyD4p6EHr"
      },
      "outputs": [
        {
          "data": {
            "text/plain": [
              "[0, 1, 2, 4, 2, 5, 7, 8, 9, 4, 2, 0, 6, 6, 9]"
            ]
          },
          "execution_count": 6,
          "metadata": {},
          "output_type": "execute_result"
        }
      ],
      "source": [
        "def rm_int(arr, i):\n",
        "    '''\n",
        "    Función para eliminar un número de una lista\n",
        "\n",
        "    Args:\n",
        "    arr (list): una lista de números enteros\n",
        "    i (int): el entero que hay que eliminar de la lista\n",
        "\n",
        "    Returns:\n",
        "    list: la lista original sin el entero especificado\n",
        "    '''\n",
        "    return [*filter(lambda n: True if n != i else False, arr)]\n",
        "\n",
        "ls = [0, 1, 2, 3, 4, 2, 3, 5, 7, 8, 9, 4, 3, 2, 0, 6, 6, 9]\n",
        "i = 3\n",
        "rm_int(ls, i)"
      ]
    },
    {
      "cell_type": "markdown",
      "metadata": {
        "id": "hoLE6VTt-Viz"
      },
      "source": [
        "### Ejercicio 17.1\n",
        "\n",
        "\n",
        "Implementad una función que **modifique la lista original**. Haced una llamada a la función definida y mostrad que, efectivamente, la lista original se modifica."
      ]
    },
    {
      "cell_type": "code",
      "execution_count": 10,
      "metadata": {
        "id": "5YPI7XPN6ETk"
      },
      "outputs": [
        {
          "name": "stdout",
          "output_type": "stream",
          "text": [
            "Lista original: [0, 1, 2, 3, 4, 5, 6, 7, 8, 9]\n",
            "Otra vez la lista original pero modificada: [0, 1, 2, 3, 4, 5, 6, 7, 8]\n"
          ]
        }
      ],
      "source": [
        "originalList = [0, 1, 2, 3, 4, 5, 6, 7, 8, 9]\n",
        "i = 9\n",
        "\n",
        "def rm_int_mod(ls, i):\n",
        "    global originalList\n",
        "    print(f'Lista original: {originalList}')\n",
        "    originalList = rm_int(ls, i)\n",
        "    print(f'Otra vez la lista original pero modificada: {originalList}')\n",
        "\n",
        "rm_int_mod(originalList, i)"
      ]
    },
    {
      "cell_type": "markdown",
      "metadata": {
        "id": "RNNm6BB06Fwh"
      },
      "source": [
        "###  Ejercicio 17.2\n",
        "\n",
        "Implementad una función que **no modifique** la lista original. Haced una llamada a la función definida y mostrad que, efectivamente, no se modifica la lista original."
      ]
    },
    {
      "cell_type": "code",
      "execution_count": 35,
      "metadata": {
        "id": "tsC9uJP65jeW"
      },
      "outputs": [
        {
          "name": "stdout",
          "output_type": "stream",
          "text": [
            "Lista original: [0, 1, 2, 3, 4, 5, 6, 7, 8, 9]\n",
            "Lista modificada: [0, 1, 2, 3, 4, 5, 6, 7, 8]\n",
            "Otra vez la lista original: [0, 1, 2, 3, 4, 5, 6, 7, 8, 9]\n"
          ]
        }
      ],
      "source": [
        "ls = [0, 1, 2, 3, 4, 5, 6, 7, 8, 9]\n",
        "i = 9\n",
        "\n",
        "def rm_int_no_mod(ls, i):\n",
        "    print(f'Lista original: {ls}')\n",
        "    print(f'Lista modificada: {rm_int(ls, i)}')\n",
        "    print(f'Otra vez la lista original: {ls}')\n",
        "\n",
        "rm_int_no_mod(ls, i)"
      ]
    }
  ],
  "metadata": {
    "colab": {
      "collapsed_sections": [],
      "name": "Práctica con Funciones - week2",
      "provenance": []
    },
    "interpreter": {
      "hash": "63fd5069d213b44bf678585dea6b12cceca9941eaf7f819626cde1f2670de90d"
    },
    "kernelspec": {
      "display_name": "Python 3.9.2 64-bit",
      "name": "python3"
    },
    "language_info": {
      "codemirror_mode": {
        "name": "ipython",
        "version": 3
      },
      "file_extension": ".py",
      "mimetype": "text/x-python",
      "name": "python",
      "nbconvert_exporter": "python",
      "pygments_lexer": "ipython3",
      "version": "3.8.8"
    }
  },
  "nbformat": 4,
  "nbformat_minor": 0
}
