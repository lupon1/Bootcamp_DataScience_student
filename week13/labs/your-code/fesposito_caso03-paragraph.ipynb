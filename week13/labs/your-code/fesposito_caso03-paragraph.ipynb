{
  "cells": [
    {
      "cell_type": "markdown",
      "metadata": {
        "colab_type": "text",
        "id": "view-in-github"
      },
      "source": [
        "<a href=\"https://colab.research.google.com/gist/marcusRB/f9a5e2b8f06d681280fb74e443306230/caso03-paragraph.ipynb\" target=\"_parent\"><img src=\"https://colab.research.google.com/assets/colab-badge.svg\" alt=\"Open In Colab\"/></a>"
      ]
    },
    {
      "cell_type": "markdown",
      "metadata": {
        "id": "ip9fzHJXdpKs"
      },
      "source": [
        "# PyParagraph\n",
        "\n",
        "En este desafío, puedes desempeñar el papel de lingüista jefe en una academia de aprendizaje local. Como lingüista jefe, usted es responsable de evaluar la complejidad de varios pasajes de la escritura, que van desde la novela de Crepúsculo de segundo año hasta el artículo de investigación asquerosamente altruista. Después de haber leído tantos pasajes, desde entonces se le ocurrió un conjunto bastante simple de métricas para evaluar la complejidad.\n",
        "\n",
        "Su tarea es crear una secuencia de comandos de Python para automatizar el análisis de cualquier pasaje de este tipo utilizando estas métricas. Su secuencia de comandos deberá hacer lo siguiente:\n",
        "\n",
        "- Importe un archivo de texto con un párrafo de su elección.\n",
        "\n",
        "- Evalúe el pasaje para cada uno de los siguientes:\n",
        "\n",
        "  * Recuento aproximado de palabras\n",
        "\n",
        "  * Recuento aproximado de oraciones\n",
        "\n",
        "  * Recuento aproximado de letras (por palabra)\n",
        "\n",
        "  * Longitud promedio de las oraciones (en palabras)\n",
        "\n",
        "- Como ejemplo, este pasaje:\n",
        "> “Adam Wayne, el conquistador, con el rostro echado hacia atrás y la melena como la de un león, estaba de pie con su gran espada apuntando hacia arriba, la ropa roja de su oficina aleteando a su alrededor como las alas rojas de un arcángel. Y el Rey vio, no supo cómo, algo nuevo y sobrecogedor. Los grandes árboles verdes y las grandes túnicas rojas se mecían juntas en el viento. La absurda mascarada, nacida de su propia burla, se elevaba sobre él y abrazaba al mundo. Esto era lo normal, esto era cordura, esto era naturaleza, y él mismo, con su racionalidad, y su desprendimiento y su levita negra, era la excepción y el accidente una mancha negra sobre un mundo de carmesí y oro. ”\n",
        "\n",
        "... daría estos resultados:\n",
        "\n",
        "```\n",
        "Análisis de párrafo\n",
        "-----------------\n",
        "Recuento aproximado de palabras: 122\n",
        "Recuento aproximado de oraciones: 5\n",
        "Conteo promedio de letras: 4.6\n",
        "Longitud promedio de la oración: 24.0\n",
        "```\n",
        "\n",
        "Dataset: \n",
        "- paragraph_1.txt, \n",
        "- paragraph_2.txt,\n",
        "- test.txt"
      ]
    },
    {
      "cell_type": "code",
      "execution_count": 46,
      "metadata": {
        "id": "8NPCUZsGdW7x"
      },
      "outputs": [
        {
          "name": "stdout",
          "output_type": "stream",
          "text": [
            "Adam Wayne, the conqueror, with his face flung back and his mane like a lion's, stood with his great sword point upwards, the red raiment of his office flapping around him like the red wings of an archangel. And the King saw, he knew not how, something new and overwhelming. The great green trees and the great red robes swung together in the wind. The preposterous masquerade, born of his own mockery, towered over him and embraced the world. This was the normal, this was sanity, this was nature, and he himself, with his rationality, and his detachment and his black frock-coat, he was the exception and the accident a blot of black upon a world of crimson and gold.\n"
          ]
        }
      ],
      "source": [
        "text = \"Adam Wayne, the conqueror, with his face flung back and his mane like a lion's, stood with his great sword point upwards, the red raiment of his office flapping around him like the red wings of an archangel. And the King saw, he knew not how, something new and overwhelming. The great green trees and the great red robes swung together in the wind. The preposterous masquerade, born of his own mockery, towered over him and embraced the world. This was the normal, this was sanity, this was nature, and he himself, with his rationality, and his detachment and his black frock-coat, he was the exception and the accident a blot of black upon a world of crimson and gold.\"\n",
        "print(text)"
      ]
    },
    {
      "cell_type": "code",
      "execution_count": 13,
      "metadata": {},
      "outputs": [
        {
          "name": "stdout",
          "output_type": "stream",
          "text": [
            "{\"'\", ',', '.', '-'}\n"
          ]
        }
      ],
      "source": [
        "# Creo un set con todos los caracteres que no son letras del alfabeto\n",
        "noAlpha = {char for char in text if char.isalpha() == False and char != ' '}\n",
        "print(noAlpha)"
      ]
    },
    {
      "cell_type": "code",
      "execution_count": 28,
      "metadata": {},
      "outputs": [
        {
          "name": "stdout",
          "output_type": "stream",
          "text": [
            "Adam Wayne  the conqueror  with his face flung back and his mane like a lion s  stood with his great sword point upwards  the red raiment of his office flapping around him like the red wings of an archangel  And the King saw  he knew not how  something new and overwhelming  The great green trees and the great red robes swung together in the wind  The preposterous masquerade  born of his own mockery  towered over him and embraced the world  This was the normal  this was sanity  this was nature  and he himself  with his rationality  and his detachment and his black frock coat  he was the exception and the accident a blot of black upon a world of crimson and gold \n",
            "122\n"
          ]
        }
      ],
      "source": [
        "# Cuento las palabras\n",
        "palabras = text\n",
        "for char in noAlpha: palabras = palabras.replace(char, ' ')\n",
        "print(palabras)\n",
        "palabras = palabras.split()\n",
        "# print(palabras)\n",
        "numPalabras = len(palabras)\n",
        "print(numPalabras)"
      ]
    },
    {
      "cell_type": "code",
      "execution_count": 26,
      "metadata": {},
      "outputs": [
        {
          "name": "stdout",
          "output_type": "stream",
          "text": [
            "5\n"
          ]
        }
      ],
      "source": [
        "# Cuento las oraciones\n",
        "oraciones = text.split('.')\n",
        "for o in oraciones:\n",
        "    if o == '': oraciones.remove(o)\n",
        "numOraciones = len(oraciones)\n",
        "print(numOraciones)"
      ]
    },
    {
      "cell_type": "code",
      "execution_count": 49,
      "metadata": {},
      "outputs": [
        {
          "name": "stdout",
          "output_type": "stream",
          "text": [
            "4.3\n"
          ]
        }
      ],
      "source": [
        "# Promedio de letras\n",
        "# Creo que el resultado del ejemplo no es correcton(4.6)\n",
        "numLetras = len(''.join(palabras))\n",
        "promedio = round(numLetras / numPalabras, 1)\n",
        "print(promedio)"
      ]
    },
    {
      "cell_type": "code",
      "execution_count": 39,
      "metadata": {},
      "outputs": [
        {
          "name": "stdout",
          "output_type": "stream",
          "text": [
            "24.0\n"
          ]
        }
      ],
      "source": [
        "# Longitud promedio de la oración: 24.0\n",
        "promedioOracion = round(numPalabras / numOraciones, 0)\n",
        "print(promedioOracion)"
      ]
    },
    {
      "cell_type": "code",
      "execution_count": 76,
      "metadata": {},
      "outputs": [
        {
          "name": "stdout",
          "output_type": "stream",
          "text": [
            "Análisis del archivo \"paragraph_1.txt\"\n",
            "Recuento aproximado de palabras: 132\n",
            "Recuento aproximado de oraciones: 5\n",
            "Conteo promedio de letras: 6.2\n",
            "Longitud promedio de la oración: 26.0\n",
            "\n",
            "Análisis del archivo \"paragraph_2.txt\"\n",
            "Recuento aproximado de palabras: 289\n",
            "Recuento aproximado de oraciones: 11\n",
            "Conteo promedio de letras: 4.9\n",
            "Longitud promedio de la oración: 26.0\n",
            "\n",
            "Análisis del archivo \"test.txt\"\n",
            "Recuento aproximado de palabras: 122\n",
            "Recuento aproximado de oraciones: 5\n",
            "Conteo promedio de letras: 4.3\n",
            "Longitud promedio de la oración: 24.0\n",
            "\n"
          ]
        }
      ],
      "source": [
        "# Versión completa\n",
        "from os import path\n",
        "\n",
        "def textCounter(text, file):\n",
        "    oraciones = text.split('.')\n",
        "    for o in oraciones:\n",
        "        if len(o) <= 1: oraciones.remove(o)\n",
        "    numOraciones = len(oraciones)\n",
        "    noAlpha = {char for char in text if char.isalpha() == False and char != ' '}\n",
        "    for char in noAlpha: text = text.replace(char, ' ')\n",
        "    palabras = text.split()\n",
        "    numPalabras = len(palabras)\n",
        "    numLetras = len(''.join(palabras))\n",
        "    promedio = round(numLetras / numPalabras, 1)\n",
        "    promedioOracion = round(numPalabras / numOraciones, 0)\n",
        "    print(f'Análisis del archivo \"{file}\"')\n",
        "    print(f'Recuento aproximado de palabras: {numPalabras}')\n",
        "    print(f'Recuento aproximado de oraciones: {numOraciones}')\n",
        "    print(f'Conteo promedio de letras: {promedio}')\n",
        "    print(f'Longitud promedio de la oración: {promedioOracion}')\n",
        "    print()\n",
        "\n",
        "files = ('paragraph_1.txt', \n",
        "        'paragraph_2.txt',\n",
        "        'test.txt')\n",
        "for file in files:        \n",
        "    filename = path.join('../dataset/', file)\n",
        "    with open(filename, 'r', encoding='utf-8') as text:\n",
        "        textCounter(text.read(), file)"
      ]
    }
  ],
  "metadata": {
    "colab": {
      "authorship_tag": "ABX9TyNi0DyQ7e2Sgl63VObjrUyJ",
      "collapsed_sections": [],
      "include_colab_link": true,
      "name": "Caso03 - Paragraph",
      "provenance": []
    },
    "kernelspec": {
      "display_name": "Python 3",
      "name": "python3"
    },
    "language_info": {
      "codemirror_mode": {
        "name": "ipython",
        "version": 3
      },
      "file_extension": ".py",
      "mimetype": "text/x-python",
      "name": "python",
      "nbconvert_exporter": "python",
      "pygments_lexer": "ipython3",
      "version": "3.8.8"
    }
  },
  "nbformat": 4,
  "nbformat_minor": 0
}
