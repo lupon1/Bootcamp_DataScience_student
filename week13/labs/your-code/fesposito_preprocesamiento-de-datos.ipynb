{
  "cells": [
    {
      "cell_type": "markdown",
      "metadata": {
        "colab_type": "text",
        "id": "view-in-github"
      },
      "source": [
        "<a href=\"https://colab.research.google.com/gist/marcusRB/e06362dfec5f1cb10d3774b0f2ded026/preprocesamiento-de-datos.ipynb\" target=\"_parent\"><img src=\"https://colab.research.google.com/assets/colab-badge.svg\" alt=\"Open In Colab\"/></a>"
      ]
    },
    {
      "cell_type": "markdown",
      "metadata": {
        "id": "tAjXC5fVqtFj"
      },
      "source": [
        "Ejercicio 1\n",
        "Cargue los datos del fichero bank_edited.csv en un dataframe. Este conjunto de datos recoge información respecto a una campaña de marketing de un banco portugués. El conjunto original se puede encontrar en el [repositorio de datos de Machine Learning de la UC Irvine] (http://archive.ics.uci.edu/ml/datasets/Bank+Marketing), pero el conjunto que utilizaremos tiene alguna modificación .Observación: revise la documentación de la función  read_csv para ver qué parámetro disponemos para ajustar el proceso de cargar de datos.Los valores del estado civil (atributo marital) contienen errores tipográficos y incluyen el uso de diferentes nomenclaturas. En este ejercicio unificaremos la nomenclatura de los valores de esta variables."
      ]
    },
    {
      "cell_type": "code",
      "execution_count": 41,
      "metadata": {},
      "outputs": [],
      "source": [
        "import pandas\n",
        "df = pandas.read_csv('bank_edited.csv', sep=';')"
      ]
    },
    {
      "cell_type": "markdown",
      "metadata": {},
      "source": [
        "- a) ¿Cuantos valors diferentes tiene el atributo marital en el conjunto de datos? Mostrad estos valores."
      ]
    },
    {
      "cell_type": "code",
      "execution_count": 42,
      "metadata": {
        "id": "eennTC1HmAQh"
      },
      "outputs": [
        {
          "name": "stdout",
          "output_type": "stream",
          "text": [
            "El atributo \"marital\" tiene 11 valores distintos. Son los siguientes: \n",
            "['married' 'single' 'marrid' 'divorced' 'maried' 'sing' 'Married'\n",
            " 'MARRIED' 'DIVORCED' 'Single' 'SINGLE']\n"
          ]
        }
      ],
      "source": [
        "# respuesta\n",
        "r = df.marital.unique()\n",
        "print(f'El atributo \"marital\" tiene {len(r)} valores distintos. Son los siguientes: \\n{r}')"
      ]
    },
    {
      "cell_type": "markdown",
      "metadata": {
        "id": "EkZ7KmOQq7U0"
      },
      "source": [
        "- b) Unificad los atributos marital en los valores: \"single\", \"married\" o \"divorced\"."
      ]
    },
    {
      "cell_type": "code",
      "execution_count": 43,
      "metadata": {
        "id": "RoHCJHscq87Z"
      },
      "outputs": [
        {
          "name": "stdout",
          "output_type": "stream",
          "text": [
            "El atributo \"marital\" tiene ahora solo 3 valores distintos. Son los siguientes: \n",
            "['married' 'single' 'divorced']\n"
          ]
        }
      ],
      "source": [
        "# respuesta\n",
        "df.marital = df.marital.str.lower()\n",
        "# df.marital = df.marital.replace('sing', 'single')\n",
        "# df.marital = df.marital.replace('marrid', 'married')\n",
        "# df.marital = df.marital.replace('maried', 'married')\n",
        "\n",
        "df.marital = df.marital.replace(r'^sing.*$', 'single', regex=True)\n",
        "df.marital = df.marital.replace(r'^mar.*$', 'married', regex=True)\n",
        "\n",
        "r = df.marital.unique()\n",
        "print(f'El atributo \"marital\" tiene ahora solo {len(r)} valores distintos. Son los siguientes: \\n{r}')\n"
      ]
    },
    {
      "cell_type": "markdown",
      "metadata": {
        "id": "UrsdVawWq-_z"
      },
      "source": [
        " c) ¿Qué columnas contienen valores perdidos? "
      ]
    },
    {
      "cell_type": "code",
      "execution_count": 44,
      "metadata": {
        "id": "WkmrIqUoq_1s"
      },
      "outputs": [
        {
          "name": "stdout",
          "output_type": "stream",
          "text": [
            "Index(['age', 'job', 'marital', 'education', 'default', 'balance', 'housing',\n",
            "       'loan', 'contact', 'day', 'month', 'duration', 'campaign', 'pdays',\n",
            "       'previous', 'poutcome', 'y'],\n",
            "      dtype='object')\n",
            "Éstas columnas tienen valores perdidos:\n",
            "['balance', 'day', 'duration']\n"
          ]
        }
      ],
      "source": [
        "# respuesta\n",
        "cols = df.columns\n",
        "print(cols)\n",
        "perdidos = [c for c in cols if df[c].isnull().values.any()]\n",
        "print(f'Éstas columnas tienen valores perdidos:\\n{perdidos}')\n"
      ]
    },
    {
      "cell_type": "markdown",
      "metadata": {
        "id": "RB1kP-ULrBVs"
      },
      "source": [
        "d) Calculad el primer y el tercer cuartil del atributo \"balance\"."
      ]
    },
    {
      "cell_type": "code",
      "execution_count": 45,
      "metadata": {
        "id": "sYq_G7ETrA96"
      },
      "outputs": [
        {
          "name": "stdout",
          "output_type": "stream",
          "text": [
            "El primer cuartil es: 68.0\n",
            "El tercer cuartil es: 1476.0\n"
          ]
        }
      ],
      "source": [
        "# respuesta\n",
        "b = df['balance'].describe()\n",
        "print(f'El primer cuartil es: {b[4]}')\n",
        "print(f'El tercer cuartil es: {b[6]}')"
      ]
    },
    {
      "cell_type": "markdown",
      "metadata": {
        "id": "4KySszPtrGkg"
      },
      "source": [
        "Ejercicio 2\n",
        " El atributo poutcome contiene información sobre si el cliente del banco contractó un deposito. Calula la correlacióm entre el atributo poutcome y el resto de atributos (usa la función 'corr'). ¿Qué variable presenta mayor correlación con poutcome?"
      ]
    },
    {
      "cell_type": "code",
      "execution_count": 46,
      "metadata": {},
      "outputs": [
        {
          "name": "stdout",
          "output_type": "stream",
          "text": [
            "['unknown' 'failure' 'other' 'success']\n",
            "0.7111444071306131\n"
          ]
        }
      ],
      "source": [
        "# Respuesta\n",
        "u = df.poutcome.unique()\n",
        "print(u)\n",
        "for i, v in enumerate(u): df['poutcome'] = df['poutcome'].replace(v, i)\n",
        "corr_serie = df.corr().poutcome[:-1].sort_values()\n",
        "print(corr_serie[-1])\n",
        "\n",
        "# # Respuesta Marco\n",
        "# data_poud = df[df.poutcome.isin(('failure', 'success'))]\n",
        "# data_poud['poutcome_cat'] = df."
      ]
    },
    {
      "cell_type": "markdown",
      "metadata": {
        "id": "WABHC-7qrLJJ"
      },
      "source": [
        "Ejercicio 3\n",
        " El módulo sklearn incluye varios datasets de ejemplo, dentro del módulo sklearn.datasets. Estos datasets se almacenan en formato Bunch, propio de sklearn. Un Bunch es un objeto tipo diccionario, los atributos interesantes son: data, con los datos en crudo, target, con generalmente las etiquetas de clasificación o etiquetas objetivo, target_names, el significado de las etiquetas, feature_names, el significado de las características o atributos, DESCR , la descripción completa del conjunto de datos. Importa el dataset iris de sklearn. Almacena los datos este dataset como un objeto pandas, con los correpondientres nombres de variables. Añade la variable target en el dataframe con el nombre de atributo Species y los valors con el tipo de especie de cada muestra."
      ]
    },
    {
      "cell_type": "code",
      "execution_count": 50,
      "metadata": {
        "id": "pzMwHuA2rMUu"
      },
      "outputs": [
        {
          "data": {
            "text/html": [
              "<div>\n",
              "<style scoped>\n",
              "    .dataframe tbody tr th:only-of-type {\n",
              "        vertical-align: middle;\n",
              "    }\n",
              "\n",
              "    .dataframe tbody tr th {\n",
              "        vertical-align: top;\n",
              "    }\n",
              "\n",
              "    .dataframe thead th {\n",
              "        text-align: right;\n",
              "    }\n",
              "</style>\n",
              "<table border=\"1\" class=\"dataframe\">\n",
              "  <thead>\n",
              "    <tr style=\"text-align: right;\">\n",
              "      <th></th>\n",
              "      <th>sepal length (cm)</th>\n",
              "      <th>sepal width (cm)</th>\n",
              "      <th>petal length (cm)</th>\n",
              "      <th>petal width (cm)</th>\n",
              "      <th>Species</th>\n",
              "    </tr>\n",
              "  </thead>\n",
              "  <tbody>\n",
              "    <tr>\n",
              "      <th>139</th>\n",
              "      <td>6.9</td>\n",
              "      <td>3.1</td>\n",
              "      <td>5.4</td>\n",
              "      <td>2.1</td>\n",
              "      <td>virginica</td>\n",
              "    </tr>\n",
              "    <tr>\n",
              "      <th>125</th>\n",
              "      <td>7.2</td>\n",
              "      <td>3.2</td>\n",
              "      <td>6.0</td>\n",
              "      <td>1.8</td>\n",
              "      <td>virginica</td>\n",
              "    </tr>\n",
              "    <tr>\n",
              "      <th>67</th>\n",
              "      <td>5.8</td>\n",
              "      <td>2.7</td>\n",
              "      <td>4.1</td>\n",
              "      <td>1.0</td>\n",
              "      <td>versicolor</td>\n",
              "    </tr>\n",
              "    <tr>\n",
              "      <th>3</th>\n",
              "      <td>4.6</td>\n",
              "      <td>3.1</td>\n",
              "      <td>1.5</td>\n",
              "      <td>0.2</td>\n",
              "      <td>setosa</td>\n",
              "    </tr>\n",
              "    <tr>\n",
              "      <th>113</th>\n",
              "      <td>5.7</td>\n",
              "      <td>2.5</td>\n",
              "      <td>5.0</td>\n",
              "      <td>2.0</td>\n",
              "      <td>virginica</td>\n",
              "    </tr>\n",
              "    <tr>\n",
              "      <th>52</th>\n",
              "      <td>6.9</td>\n",
              "      <td>3.1</td>\n",
              "      <td>4.9</td>\n",
              "      <td>1.5</td>\n",
              "      <td>versicolor</td>\n",
              "    </tr>\n",
              "    <tr>\n",
              "      <th>18</th>\n",
              "      <td>5.7</td>\n",
              "      <td>3.8</td>\n",
              "      <td>1.7</td>\n",
              "      <td>0.3</td>\n",
              "      <td>setosa</td>\n",
              "    </tr>\n",
              "    <tr>\n",
              "      <th>137</th>\n",
              "      <td>6.4</td>\n",
              "      <td>3.1</td>\n",
              "      <td>5.5</td>\n",
              "      <td>1.8</td>\n",
              "      <td>virginica</td>\n",
              "    </tr>\n",
              "    <tr>\n",
              "      <th>20</th>\n",
              "      <td>5.4</td>\n",
              "      <td>3.4</td>\n",
              "      <td>1.7</td>\n",
              "      <td>0.2</td>\n",
              "      <td>setosa</td>\n",
              "    </tr>\n",
              "    <tr>\n",
              "      <th>64</th>\n",
              "      <td>5.6</td>\n",
              "      <td>2.9</td>\n",
              "      <td>3.6</td>\n",
              "      <td>1.3</td>\n",
              "      <td>versicolor</td>\n",
              "    </tr>\n",
              "  </tbody>\n",
              "</table>\n",
              "</div>"
            ],
            "text/plain": [
              "     sepal length (cm)  sepal width (cm)  petal length (cm)  petal width (cm)  \\\n",
              "139                6.9               3.1                5.4               2.1   \n",
              "125                7.2               3.2                6.0               1.8   \n",
              "67                 5.8               2.7                4.1               1.0   \n",
              "3                  4.6               3.1                1.5               0.2   \n",
              "113                5.7               2.5                5.0               2.0   \n",
              "52                 6.9               3.1                4.9               1.5   \n",
              "18                 5.7               3.8                1.7               0.3   \n",
              "137                6.4               3.1                5.5               1.8   \n",
              "20                 5.4               3.4                1.7               0.2   \n",
              "64                 5.6               2.9                3.6               1.3   \n",
              "\n",
              "        Species  \n",
              "139   virginica  \n",
              "125   virginica  \n",
              "67   versicolor  \n",
              "3        setosa  \n",
              "113   virginica  \n",
              "52   versicolor  \n",
              "18       setosa  \n",
              "137   virginica  \n",
              "20       setosa  \n",
              "64   versicolor  "
            ]
          },
          "execution_count": 50,
          "metadata": {},
          "output_type": "execute_result"
        }
      ],
      "source": [
        "# Respuesta\n",
        "from sklearn import datasets\n",
        "iris = datasets.load_iris()\n",
        "species = iris['target_names']\n",
        "df_iris = pandas.DataFrame(data=iris.data, columns=iris.feature_names)\n",
        "df_iris['Species'] = iris.target.astype(str)\n",
        "for n in range(3): df_iris['Species'] = df_iris['Species'].replace(str(n), species[n])\n",
        "df_iris.sample(10, random_state=23)\n",
        "\n",
        "# oneHotEncoder de sklearn"
      ]
    }
  ],
  "metadata": {
    "colab": {
      "authorship_tag": "ABX9TyMNl/jdKxjOuAILZqRg/cPC",
      "include_colab_link": true,
      "name": "Preprocesamiento de datos",
      "provenance": []
    },
    "kernelspec": {
      "display_name": "Python 3",
      "name": "python3"
    },
    "language_info": {
      "codemirror_mode": {
        "name": "ipython",
        "version": 3
      },
      "file_extension": ".py",
      "mimetype": "text/x-python",
      "name": "python",
      "nbconvert_exporter": "python",
      "pygments_lexer": "ipython3",
      "version": "3.8.8"
    }
  },
  "nbformat": 4,
  "nbformat_minor": 0
}
