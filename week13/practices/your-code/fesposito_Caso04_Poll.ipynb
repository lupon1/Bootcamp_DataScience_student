{
  "cells": [
    {
      "cell_type": "markdown",
      "metadata": {
        "id": "7kYgyYLeffR1"
      },
      "source": [
        "# Poll\n",
        "\n",
        "- En este desafío, tiene la tarea de ayudar a un pequeño pueblo rural a modernizar su proceso de conteo de votos. (Hasta ahora, el tío Cleetus había estado contándolos con confianza uno por uno, pero desafortunadamente, su concentración ya no es la que solía ser).\n",
        "\n",
        "- Se le dará un conjunto de datos de encuesta llamados [`election_data.csv`](https://github.com/marcusRB/IDbootcamps_DataScience_student_PT_10201/blob/master/dataset/election_data.csv). El conjunto de datos se compone de tres columnas: ID de votante, condado y candidato. Su tarea es crear un script de Python que analice los votos y calcule cada uno de los siguientes:\n",
        "\n",
        "  * El número total de votos emitidos\n",
        "  * Una lista completa de los candidatos que recibieron votos\n",
        "  * El porcentaje de votos que ganó cada candidato.\n",
        "  * El número total de votos que ganó cada candidato.\n",
        "  * El ganador de la elección basado en el voto popular.\n",
        "\n",
        "Como ejemplo, su análisis debería ser similar al siguiente:\n",
        "```\n",
        "    Resultados de las elecciones\n",
        "    -------------------------\n",
        "    Votos totales: 3521001\n",
        "    -------------------------\n",
        "    Khan: 63.000% (2218231)\n",
        "    Correy: 20.000% (704200)\n",
        "    Li: 14,000% (492940)\n",
        "    O´Tooley: 3.000% (105630)\n",
        "    -------------------------\n",
        "    Ganador: Khan\n",
        "    -------------------------\n",
        "```\n",
        "\n"
      ]
    },
    {
      "cell_type": "code",
      "execution_count": 29,
      "metadata": {
        "id": "s5XFM1mKfYcv"
      },
      "outputs": [
        {
          "name": "stdout",
          "output_type": "stream",
          "text": [
            "Resultados de las elecciones\n",
            "----------------------------\n",
            "Votos totales: 3521001\n",
            "----------------------------\n",
            "Khan: 63.0% (2218231)\n",
            "Correy: 20.0% (704200)\n",
            "Li: 14.0% (492940)\n",
            "O'Tooley: 3.0% (105630)\n",
            "----------------------------\n",
            "Ganador: Khan\n",
            "----------------------------\n"
          ]
        }
      ],
      "source": [
        "import pandas\n",
        "dataset = '../dataset/election_data.csv'\n",
        "data = pandas.read_csv(dataset)\n",
        "tot = data.shape[0]\n",
        "candidates = data.Candidate.unique()\n",
        "votos = data.Candidate.value_counts()\n",
        "votosRel = data.Candidate.value_counts(normalize=True)\n",
        "ganador = votos[votos == votos.max()].index[0]\n",
        "print('Resultados de las elecciones')\n",
        "print('----------------------------')\n",
        "print(f'Votos totales: {tot}')\n",
        "print('----------------------------')\n",
        "for i in range(len(candidates)):\n",
        "    print(f'{candidates[i]}: {round(votosRel[i]*100, 0)}% ({votos[i]})')\n",
        "print('----------------------------')\n",
        "print(f'Ganador: {ganador}')\n",
        "print('----------------------------')\n"
      ]
    }
  ],
  "metadata": {
    "colab": {
      "name": "Caso04 - Poll",
      "provenance": []
    },
    "kernelspec": {
      "display_name": "Python 3",
      "name": "python3"
    },
    "language_info": {
      "codemirror_mode": {
        "name": "ipython",
        "version": 3
      },
      "file_extension": ".py",
      "mimetype": "text/x-python",
      "name": "python",
      "nbconvert_exporter": "python",
      "pygments_lexer": "ipython3",
      "version": "3.8.8"
    }
  },
  "nbformat": 4,
  "nbformat_minor": 0
}
