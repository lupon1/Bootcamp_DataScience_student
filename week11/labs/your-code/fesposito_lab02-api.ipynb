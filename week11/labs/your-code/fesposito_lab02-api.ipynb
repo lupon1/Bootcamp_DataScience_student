{
  "cells": [
    {
      "cell_type": "markdown",
      "metadata": {
        "colab_type": "text",
        "id": "view-in-github"
      },
      "source": [
        "<a href=\"https://colab.research.google.com/gist/marcusRB/edfaf7251c2b6354916f0dca329e226b/lab02-api.ipynb\" target=\"_parent\"><img src=\"https://colab.research.google.com/assets/colab-badge.svg\" alt=\"Open In Colab\"/></a>"
      ]
    },
    {
      "cell_type": "markdown",
      "metadata": {
        "id": "bHkwdQIPXlfY"
      },
      "source": [
        "### Ejercicio 2\n",
        "\n",
        "Implementad un conjunto de funciones para obtener la **secuencia de ADN** del organismo *Homo sapiens* del cromosoma 1 (**chr1**) desde la posición 100000 hasta 101000 para la referencia **hg19**.  Para realizar el ejercicio utilizad la API de [UCSC](https://genome.ucsc.edu/goldenPath/help/api.html).\n",
        "\n",
        "**Nota**: El genoma de referencia de una célula es un repositorio de secuencias de ADN ( ácido desoxirribonucleico) empaquetado en forma de cromosoma. El ADN es un ácido nucleico que contiene la información genética que dirige el desarrollo y el funcionamiento de todos los seres vivos. El ADN se puede entender como una secuencia de nucleótidos (A, C, T y G) de una determinada longitud.  Este material hereditario codifica los genes que, una vez descifrados, son indispensables para la síntesis de las proteínas. \n",
        "\n",
        "Un genoma de referencia es la representación de la secuencia de ADN del genoma de una especie.  En el caso del organismo *Homo sapiens*, existen diferentes versiones del genoma de referencia.  La última versión, hg38, se publicó en el 2014 y es la más detallada y precisa.\n",
        "\n",
        "UCSC es un navegador de la Universidad de Santa Cruz de California que ofrece acceso a secuencias genómicas y su correspondiente anotación (genes, mRNAs, CpG,…) de una gran variedad de organismos, vertebrados e invertebrados. \n",
        "\n",
        "Referencia: [Genómica Computacional](http://discovery.uoc.edu/iii/encore/record/C__Rb1046448__Sgenomica%20Computacional__Orightresult__U__X7?lang=cat&suite=def). Enrique Blanco. Barcelona, Universitat Oberta de Catalunya, 2011.\n",
        "\n",
        "**Importante**: No es necesario entender toda la información que podéis obtener a través de la API de UCSC. Fijaros bien con lo que os pide el enunciado ( prestad atención a la palabras clave en negrita), y revisad los ejemplos de acceso a los datos que hay en la web de [UCSC](https://genome.ucsc.edu/goldenPath/help/api.html).\n"
      ]
    },
    {
      "cell_type": "code",
      "execution_count": 12,
      "metadata": {
        "id": "jUqfpRKhXmmD"
      },
      "outputs": [
        {
          "name": "stdout",
          "output_type": "stream",
          "text": [
            "La secuencia de ADN del organismo Homo sapiens del cromosoma 1 desde la posición 100000 hasta 101000 para la referencia hg19 es:\n",
            "actaagcacacagagaataatgtctagaatctgagtgccatgttatcaaattgtactgagactcttgcagtcacacaggctgacatgtaagcatcgccatgcctagtacagactctccctgcagatgaaattatatgggatgctaaattataatgagaacaatgtttggtgagccaaaactacaacaagggaagctaattggatgaatttataaaaatatgcctcagccaaaatagcttaattcactctcccttatcataaggataatcttgcctaaagggacagtaatattAAAGACACTAGGAATAACCTCTGTACTTTGGACAGTAGACCTGCATAGCCCattaggcctcaatgaagtcttatgcaagaccagaagccaatttgccatttaaggtgattctccatgtttctgctctaaCTGTGCTTCACAATACTCAAAACACTAAATCAGGATGTTTCCTGGAGTTCAGGGAGCTGTCCGTGTTACTGAGCAGTTCTCAGCAACACAAAGATCCTACTGACTCCTCATCAGACTTCTTTCTCACTGGAATTTTACACCTGGGCTGTTAACACCAGGCCAGGTCAAATTCAAAGGAGAGAAAAAAGCTCATTATGAAGGGTAAAATCCAAAACACTGTGCATAAAGATATGGCACAATTTTTATACATAAAGATTTCATAAAACCAAAGCATCAGGAAATGAAAAGAGATACAGAAAGAAAAATGATGGTAAATGAGACATTAATTTACCCTTCTAATCTCTATCACAGCAAAAAGATAATTAAAAAATCTATATGAGGACCACAAAATACACAAAAATTATGTAGCAAAGCCTATAGCCTGAAAAAGTAAACATTGAAATTTGTATGTCCATAAAATGTTTACAAAATTCAGTACATATTACACACCCCACCCTAAAAACATCTAAGCAAAGTAGAGAATGTAGAAATGCTACAGATTATATTCTCTGATTATGACACAACAAAACTAGAAATTAC\n"
          ]
        }
      ],
      "source": [
        "# Respuesta\n",
        "import requests\n",
        "endpoint = 'https://api.genome.ucsc.edu/getData/sequence'\n",
        "parameter = {'genome':'hg19',\n",
        "            'chrom':'chr1',\n",
        "            'start':100000,\n",
        "            'end':101000\n",
        "}\n",
        "\n",
        "def get_genome():\n",
        "    response = requests.get(endpoint, params=parameter)\n",
        "    if response.status_code == 200:\n",
        "        response = response.json()\n",
        "        print('La secuencia de ADN del organismo Homo sapiens del cromosoma 1 desde la posición 100000 hasta 101000 para la referencia hg19 es:')\n",
        "        print(response['dna'])\n",
        "    else:\n",
        "        print(f'Error, status code: {response.status_code}')\n",
        "        print(response.text)\n",
        "\n",
        "get_genome()"
      ]
    }
  ],
  "metadata": {
    "colab": {
      "authorship_tag": "ABX9TyMGD6t+GYGpmAwjYbBuc0Sa",
      "include_colab_link": true,
      "name": "Lab02 - API",
      "provenance": []
    },
    "kernelspec": {
      "display_name": "Python 3",
      "name": "python3"
    },
    "language_info": {
      "codemirror_mode": {
        "name": "ipython",
        "version": 3
      },
      "file_extension": ".py",
      "mimetype": "text/x-python",
      "name": "python",
      "nbconvert_exporter": "python",
      "pygments_lexer": "ipython3",
      "version": "3.8.8"
    }
  },
  "nbformat": 4,
  "nbformat_minor": 0
}
