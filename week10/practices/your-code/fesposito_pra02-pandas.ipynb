{
 "cells": [
  {
   "cell_type": "markdown",
   "metadata": {},
   "source": [
    "# Programación 201"
   ]
  },
  {
   "cell_type": "markdown",
   "metadata": {},
   "source": [
    "Librerías científicas en Python: `Pandas`\n",
    "------------------------------------------------------"
   ]
  },
  {
   "cell_type": "markdown",
   "metadata": {},
   "source": [
    "### Ejercicio 1\n",
    "\n",
    "Cargad los datos del fichero _got.csv_ en un _dataframe_. Este conjunto de datos recoge información de la [Guerra de los Cinco Reyes](https://awoiaf.westeros.org/index.php/War_of_the_Five_Kings) de las novelas de [Cancion de Hielo y Fuego](https://es.wikipedia.org/wiki/Canci%C3%B3n_de_hielo_y_fuego) de George R.R Martin.\n",
    "\n",
    "Mostrad el número de filas del _dataframe_ y las etiquetas de los ejes."
   ]
  },
  {
   "cell_type": "code",
   "execution_count": 18,
   "metadata": {},
   "outputs": [
    {
     "name": "stdout",
     "output_type": "stream",
     "text": [
      "El dataframe tiene 38 filas.\n",
      "Estas son las etiquetas de los ejes:\n",
      "['name', 'year', 'battle_number', 'attacker_king', 'defender_king', 'attacker_1', 'attacker_2', 'attacker_3', 'attacker_4', 'defender_1', 'defender_2', 'defender_3', 'defender_4', 'attacker_outcome', 'battle_type', 'major_death', 'major_capture', 'attacker_size', 'defender_size', 'attacker_commander', 'defender_commander', 'summer', 'location', 'region', 'note']\n"
     ]
    }
   ],
   "source": [
    "# Respuesta\n",
    "import pandas\n",
    "dataFile = '..\\..\\..\\dataset\\got.csv'\n",
    "df = pandas.read_csv(dataFile)\n",
    "rows = df.shape[0] \n",
    "print(f'El dataframe tiene {rows} filas.')\n",
    "tags = [e for e in df.axes[1]]\n",
    "# o en alternativa\n",
    "tags = [e for e in df.columns]\n",
    "print('Estas son las etiquetas de los ejes:')\n",
    "print(tags)"
   ]
  },
  {
   "cell_type": "markdown",
   "metadata": {},
   "source": [
    "### Ejercicio 2\n",
    "\n",
    "Agrupad los datos cargados en el ejercicio 1 por el principal bando atacante (*attacker\\_1*). Para cada posición, mostrad el número de batallas y el resultado de la batalla (el resultado se encuentra en el campo *attacker\\_outcome*)."
   ]
  },
  {
   "cell_type": "code",
   "execution_count": 19,
   "metadata": {},
   "outputs": [
    {
     "name": "stderr",
     "output_type": "stream",
     "text": [
      "<ipython-input-19-5039b1644e0c>:4: FutureWarning: Indexing with multiple keys (implicitly converted to a tuple of keys) will be deprecated, use a list instead.\n",
      "  df2 = df.groupby(by='attacker_1')['attacker_outcome', 'battle_number'].count()\n"
     ]
    }
   ],
   "source": [
    "# Respuesta\n",
    "df[['attacker_1', 'battle_number', 'attacker_outcome']].sort_values(by='attacker_1')\n",
    "# Groupby es un generados\n",
    "df2 = df.groupby(by='attacker_1')['attacker_outcome', 'battle_number'].count()\n"
   ]
  },
  {
   "cell_type": "code",
   "execution_count": 20,
   "metadata": {},
   "outputs": [
    {
     "name": "stderr",
     "output_type": "stream",
     "text": [
      "<ipython-input-20-0adec4275f87>:1: FutureWarning: The `squeeze` parameter is deprecated and will be removed in a future version.\n",
      "  df3 = df.groupby(by='attacker_1', squeeze=True)\n"
     ]
    }
   ],
   "source": [
    "df3 = df.groupby(by='attacker_1', squeeze=True)\n",
    "df3 = df3['attacker_outcome'].value_counts()"
   ]
  },
  {
   "cell_type": "code",
   "execution_count": 21,
   "metadata": {},
   "outputs": [
    {
     "name": "stdout",
     "output_type": "stream",
     "text": [
      "El número de batallas realizadas por Baratheon fueron 2\n",
      "El número de batallas realizadas por Bolton fueron 1\n",
      "El número de batallas realizadas por Bracken fueron 1\n",
      "El número de batallas realizadas por Brave Companions fueron 1\n",
      "El número de batallas realizadas por Brotherhood without Banners fueron 1\n",
      "El número de batallas realizadas por Darry fueron 1\n",
      "El número de batallas realizadas por Free folk fueron 1\n",
      "El número de batallas realizadas por Frey fueron 1\n",
      "El número de batallas realizadas por Greyjoy fueron 1\n",
      "El número de batallas realizadas por Lannister fueron 2\n",
      "El número de batallas realizadas por Stark fueron 2\n"
     ]
    }
   ],
   "source": [
    "for (attacker, battles) in df3.groupby(['attacker_1']):\n",
    "    print(f'El número de batallas realizadas por {attacker} fueron {len(battles)}')"
   ]
  },
  {
   "cell_type": "markdown",
   "metadata": {},
   "source": [
    "### Ejercicio 3\n",
    "\n",
    "Mostrad los datos de las batallas donde el numero de participantes supera los 15000 \"hombres\" (contando ambos bandos: *attacker\\_size* y *defender\\_size*), el resultado haya sido favorable para el atacante, y la batalla se haya producido en invierno (_summer=0_)."
   ]
  },
  {
   "cell_type": "code",
   "execution_count": 29,
   "metadata": {},
   "outputs": [
    {
     "name": "stderr",
     "output_type": "stream",
     "text": [
      "<ipython-input-29-f2d8fa9a0a0e>:2: UserWarning: Boolean Series key will be reindexed to match DataFrame index.\n",
      "  df[df.attacker_size + df.defender_size >= 15000][df.summer == 0][df.attacker_outcome == 'win']\n"
     ]
    },
    {
     "data": {
      "text/html": [
       "<div>\n",
       "<style scoped>\n",
       "    .dataframe tbody tr th:only-of-type {\n",
       "        vertical-align: middle;\n",
       "    }\n",
       "\n",
       "    .dataframe tbody tr th {\n",
       "        vertical-align: top;\n",
       "    }\n",
       "\n",
       "    .dataframe thead th {\n",
       "        text-align: right;\n",
       "    }\n",
       "</style>\n",
       "<table border=\"1\" class=\"dataframe\">\n",
       "  <thead>\n",
       "    <tr style=\"text-align: right;\">\n",
       "      <th></th>\n",
       "      <th>name</th>\n",
       "      <th>year</th>\n",
       "      <th>battle_number</th>\n",
       "      <th>attacker_king</th>\n",
       "      <th>defender_king</th>\n",
       "      <th>attacker_1</th>\n",
       "      <th>attacker_2</th>\n",
       "      <th>attacker_3</th>\n",
       "      <th>attacker_4</th>\n",
       "      <th>defender_1</th>\n",
       "      <th>...</th>\n",
       "      <th>major_death</th>\n",
       "      <th>major_capture</th>\n",
       "      <th>attacker_size</th>\n",
       "      <th>defender_size</th>\n",
       "      <th>attacker_commander</th>\n",
       "      <th>defender_commander</th>\n",
       "      <th>summer</th>\n",
       "      <th>location</th>\n",
       "      <th>region</th>\n",
       "      <th>note</th>\n",
       "    </tr>\n",
       "  </thead>\n",
       "  <tbody>\n",
       "  </tbody>\n",
       "</table>\n",
       "<p>0 rows × 25 columns</p>\n",
       "</div>"
      ],
      "text/plain": [
       "Empty DataFrame\n",
       "Columns: [name, year, battle_number, attacker_king, defender_king, attacker_1, attacker_2, attacker_3, attacker_4, defender_1, defender_2, defender_3, defender_4, attacker_outcome, battle_type, major_death, major_capture, attacker_size, defender_size, attacker_commander, defender_commander, summer, location, region, note]\n",
       "Index: []\n",
       "\n",
       "[0 rows x 25 columns]"
      ]
     },
     "execution_count": 29,
     "metadata": {},
     "output_type": "execute_result"
    }
   ],
   "source": [
    "# Respuesta\n",
    "df[df.attacker_size + df.defender_size >= 15000][df.summer == 0][df.attacker_outcome == 'win']\n",
    "# Alternativa\n",
    "df[(df.attacker_size + df.defender_size >= 15000)&(\n",
    "    df.summer == 0)&(\n",
    "        df.attacker_outcome == 'win')]"
   ]
  },
  {
   "cell_type": "markdown",
   "metadata": {},
   "source": [
    "### Ejercicio 4\n",
    "\n",
    "Contad el número de lugares que aparecen más de una vez en _dataframe_ (campo _location_), utilizando las funciones de la librería _pandas_. ¿Existe algún lugar donde se haya realizado más de una batalla? Comprobad qué bandos estaban implicados."
   ]
  },
  {
   "cell_type": "code",
   "execution_count": 30,
   "metadata": {},
   "outputs": [
    {
     "data": {
      "text/plain": [
       "<bound method IndexOpsMixin.value_counts of 0                             Golden Tooth\n",
       "1                            Mummer's Ford\n",
       "2                                 Riverrun\n",
       "3                               Green Fork\n",
       "4                          Whispering Wood\n",
       "5                                 Riverrun\n",
       "6                                    Darry\n",
       "7                              Moat Cailin\n",
       "8                           Deepwood Motte\n",
       "9                              Stony Shore\n",
       "10                        Torrhen's Square\n",
       "11                              Winterfell\n",
       "12                        Torrhen's Square\n",
       "13                              Winterfell\n",
       "14                                 Oxcross\n",
       "15                             Storm's End\n",
       "16                                Red Fork\n",
       "17                               Harrenhal\n",
       "18                                    Crag\n",
       "19                          King's Landing\n",
       "20                                   Darry\n",
       "21                              Duskendale\n",
       "22                                     NaN\n",
       "23                               Ruby Ford\n",
       "24                               Harrenhal\n",
       "25                               The Twins\n",
       "26                                 Seagard\n",
       "27                            Castle Black\n",
       "28                             Moat Cailin\n",
       "29                                Saltpans\n",
       "30                          Deepwood Motte\n",
       "31                          Shield Islands\n",
       "32    Ryamsport, Vinetown, Starfish Harbor\n",
       "33                             Storm's End\n",
       "34                             Dragonstone\n",
       "35                                Riverrun\n",
       "36                               Raventree\n",
       "37                              Winterfell\n",
       "Name: location, dtype: object>"
      ]
     },
     "execution_count": 30,
     "metadata": {},
     "output_type": "execute_result"
    }
   ],
   "source": [
    "# Respuesta\n",
    "df['location'].value_counts"
   ]
  },
  {
   "cell_type": "markdown",
   "metadata": {},
   "source": [
    "### Ejercicio 5\n",
    "\n",
    "Añadid una nueva columna al _dataframe_ con un valor booleano indicando una predicción básica de si en una cierta batalla el bando atacante será vencedor. Definiremos el valor como _True_ sí el bando atacante es mayor al defensor, y como _False_ en caso contrario. Definid como _NaN_ aquellos casos en los que no haya número de tropas en ningún bando. ¿En que casos, identificados por el número de batalla (*battle\\_number*), nuestra predicción coincide con el resultado real?"
   ]
  },
  {
   "cell_type": "code",
   "execution_count": 24,
   "metadata": {},
   "outputs": [],
   "source": [
    "# Respuesta\n",
    "# pandas apply y trasform\n",
    "\n",
    "# Solución Sebastian\n",
    "import numpy as np\n",
    "conditions = [\n",
    "    (df['attacker_size'] > df['defender_size']),\n",
    "    (df['attacker_size'] < df['defender_size'])]\n",
    "choices = [True, False]\n",
    "df['prediction'] = np.select(conditions, choices, default='NaN')\n",
    "\n",
    "conditions2 = [\n",
    "    ((df['prediction'] == True) & (df['attacker_outcome'] == 'win')),\n",
    "    ((df['prediction'] == True) & (df['attacker_outcome'] == 'loss')),\n",
    "    ((df['prediction'] == False) & (df['attacker_outcome'] == 'loss')),\n",
    "    ((df['prediction'] == False) & (df['attacker_outcome'] == 'win'))]\n",
    "choices2 = [True, False, True, False]\n",
    "df['succesful_prediction'] = np.select(conditions, choices, default='NaN')\n",
    "\n",
    "df['succesful_prediction'].value_counts()\n"
   ]
  }
 ],
 "metadata": {
  "kernelspec": {
   "display_name": "Python 3",
   "language": "python",
   "name": "python3"
  },
  "language_info": {
   "codemirror_mode": {
    "name": "ipython",
    "version": 3
   },
   "file_extension": ".py",
   "mimetype": "text/x-python",
   "name": "python",
   "nbconvert_exporter": "python",
   "pygments_lexer": "ipython3",
   "version": "3.8.8"
  }
 },
 "nbformat": 4,
 "nbformat_minor": 4
}
