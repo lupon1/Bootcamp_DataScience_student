{
 "cells": [
  {
   "cell_type": "code",
   "execution_count": 12,
   "metadata": {},
   "outputs": [
    {
     "name": "stdout",
     "output_type": "stream",
     "text": [
      "['2', '4', 'fa', 'H', 'lg', 'm', 'ma', 'mb', 'MbLg', 'mb_lg', 'mc', 'md', 'mdl', 'Me', 'mfa', 'mh', 'Mi', 'mint', 'ml', 'mlg', 'mlr', 'mlv', 'Ms', 'ms_20', 'Mt', 'mun', 'mw', 'mwb', 'mwc', 'mwp', 'mwr', 'mww', 'no', 'uk', 'Unknown']\n"
     ]
    }
   ],
   "source": [
    "endpoint = 'https://earthquake.usgs.gov/fdsnws/event/1/application.json'\n",
    "import requests\n",
    "response = requests.get(endpoint)\n",
    "response = response.json()\n",
    "# for e in response:\n",
    "print(response['magnitudetypes'])\n"
   ]
  },
  {
   "cell_type": "code",
   "execution_count": null,
   "metadata": {},
   "outputs": [],
   "source": []
  }
 ],
 "metadata": {
  "interpreter": {
   "hash": "e2d2328125dc028ab23d15038e69b72004ca5e7ee75dfcbc0ecf212b0f785d44"
  },
  "kernelspec": {
   "display_name": "Python 3.8.8 64-bit ('base': conda)",
   "language": "python",
   "name": "python3"
  },
  "language_info": {
   "codemirror_mode": {
    "name": "ipython",
    "version": 3
   },
   "file_extension": ".py",
   "mimetype": "text/x-python",
   "name": "python",
   "nbconvert_exporter": "python",
   "pygments_lexer": "ipython3",
   "version": "3.8.8"
  },
  "orig_nbformat": 4
 },
 "nbformat": 4,
 "nbformat_minor": 2
}
