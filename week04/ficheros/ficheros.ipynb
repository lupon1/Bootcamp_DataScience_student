{
 "cells": [
  {
   "cell_type": "markdown",
   "metadata": {},
   "source": [
    "## Interactuar con los ficheros y con el sistema operativo ##"
   ]
  },
  {
   "cell_type": "code",
   "execution_count": 30,
   "metadata": {},
   "outputs": [
    {
     "name": "stdout",
     "output_type": "stream",
     "text": [
      "<class '_io.TextIOWrapper'>\n",
      "<_io.TextIOWrapper name='test_file.txt' mode='w' encoding='cp1252'>\n"
     ]
    }
   ],
   "source": [
    "import os\n",
    "\n",
    "# Abrimos el fichero\n",
    "out = open('test_file.txt', 'w')\n",
    "print(type(out))\n",
    "out.write('test')\n",
    "print(out)\n",
    "out.close()"
   ]
  },
  {
   "cell_type": "code",
   "execution_count": 34,
   "metadata": {},
   "outputs": [
    {
     "name": "stdout",
     "output_type": "stream",
     "text": [
      "<class '_io.TextIOWrapper'>\n",
      "test\n"
     ]
    }
   ],
   "source": [
    "# Abrimos el path o ruta del fichero para leerlo\n",
    "ruta = 'test_file.txt'\n",
    "\n",
    "try:\n",
    "    with open(ruta, 'r') as entrada:\n",
    "        print(type(entrada))\n",
    "        print(entrada.read())\n",
    "        pass\n",
    "except FileNotFoundError as e:\n",
    "    print(e)"
   ]
  },
  {
   "cell_type": "code",
   "execution_count": 28,
   "metadata": {},
   "outputs": [],
   "source": [
    "!mkdir hello\n",
    "!rmdir hello"
   ]
  },
  {
   "cell_type": "code",
   "execution_count": 38,
   "metadata": {},
   "outputs": [
    {
     "name": "stdout",
     "output_type": "stream",
     "text": [
      "test\n",
      "ciao\n",
      "hola\n",
      "\n"
     ]
    }
   ],
   "source": [
    "with open(ruta, 'r') as file:\n",
    "    print(file.read())\n",
    "    for line in file.read():\n",
    "        print(line)"
   ]
  }
 ],
 "metadata": {
  "interpreter": {
   "hash": "e2d2328125dc028ab23d15038e69b72004ca5e7ee75dfcbc0ecf212b0f785d44"
  },
  "kernelspec": {
   "display_name": "Python 3.8.8 64-bit ('base': conda)",
   "language": "python",
   "name": "python3"
  },
  "language_info": {
   "codemirror_mode": {
    "name": "ipython",
    "version": 3
   },
   "file_extension": ".py",
   "mimetype": "text/x-python",
   "name": "python",
   "nbconvert_exporter": "python",
   "pygments_lexer": "ipython3",
   "version": "3.8.8"
  },
  "orig_nbformat": 4
 },
 "nbformat": 4,
 "nbformat_minor": 2
}
