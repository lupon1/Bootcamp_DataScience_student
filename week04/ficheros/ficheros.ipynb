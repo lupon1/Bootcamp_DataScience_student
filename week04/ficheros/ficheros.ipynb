{
 "cells": [
  {
   "cell_type": "markdown",
   "metadata": {},
   "source": [
    "## Interactuar con los ficheros y con el sistema operativo ##"
   ]
  },
  {
   "cell_type": "code",
   "execution_count": 30,
   "metadata": {},
   "outputs": [
    {
     "name": "stdout",
     "output_type": "stream",
     "text": [
      "<class '_io.TextIOWrapper'>\n",
      "<_io.TextIOWrapper name='test_file.txt' mode='w' encoding='cp1252'>\n"
     ]
    }
   ],
   "source": [
    "import os\n",
    "\n",
    "# Abrimos el fichero\n",
    "out = open('test_file.txt', 'w')\n",
    "print(type(out))\n",
    "out.write('test')\n",
    "print(out)\n",
    "out.close()"
   ]
  },
  {
   "cell_type": "code",
   "execution_count": 34,
   "metadata": {},
   "outputs": [
    {
     "name": "stdout",
     "output_type": "stream",
     "text": [
      "<class '_io.TextIOWrapper'>\n",
      "test\n"
     ]
    }
   ],
   "source": [
    "# Abrimos el path o ruta del fichero para leerlo\n",
    "ruta = 'test_file.txt'\n",
    "\n",
    "try:\n",
    "    with open(ruta, 'r') as entrada:\n",
    "        print(type(entrada))\n",
    "        print(entrada.read())\n",
    "        pass\n",
    "except FileNotFoundError as e:\n",
    "    print(e)"
   ]
  },
  {
   "cell_type": "code",
   "execution_count": 28,
   "metadata": {},
   "outputs": [],
   "source": [
    "!mkdir hello\n",
    "!rmdir hello"
   ]
  },
  {
   "cell_type": "code",
   "execution_count": 38,
   "metadata": {},
   "outputs": [
    {
     "name": "stdout",
     "output_type": "stream",
     "text": [
      "test\n",
      "ciao\n",
      "hola\n",
      "\n"
     ]
    }
   ],
   "source": [
    "with open(ruta, 'r') as file:\n",
    "    print(file.read())\n",
    "    for line in file.read():\n",
    "        print(line)"
   ]
  },
  {
   "cell_type": "markdown",
   "metadata": {},
   "source": [
    "#### Creación de carpetas"
   ]
  },
  {
   "cell_type": "code",
   "execution_count": 3,
   "metadata": {},
   "outputs": [],
   "source": [
    "# Para crear una nueva carpeta dentro de files_folder\n",
    "new_folder = 'files_folder/a_new_folder'\n",
    "os.mkdir(new_folder)"
   ]
  },
  {
   "cell_type": "code",
   "execution_count": 5,
   "metadata": {},
   "outputs": [
    {
     "name": "stdout",
     "output_type": "stream",
     "text": [
      "[WinError 3] El sistema no puede encontrar la ruta especificada: 'files_folder/a_new_folder/1/2'\n"
     ]
    }
   ],
   "source": [
    "# creamos la carpeta 2 dentro de la carpeta 1 dentro de la carpeta a_new_folder\n",
    "try:\n",
    "    new_folder = 'files_folder/a_new_folder/1/2'\n",
    "    os.mkdir(new_folder)\n",
    "except Exception as e:\n",
    "    print(e)\n",
    "\n",
    "new_folders = 'files_folder/a_new_folder/1/2/3'\n",
    "os.makedirs(new_folders)\n",
    "\n"
   ]
  },
  {
   "cell_type": "code",
   "execution_count": 16,
   "metadata": {},
   "outputs": [
    {
     "ename": "FileNotFoundError",
     "evalue": "[WinError 2] El sistema no puede encontrar el archivo especificado: 'p_big'",
     "output_type": "error",
     "traceback": [
      "\u001b[1;31m---------------------------------------------------------------------------\u001b[0m",
      "\u001b[1;31mFileNotFoundError\u001b[0m                         Traceback (most recent call last)",
      "\u001b[1;32m<ipython-input-16-48a91640d93f>\u001b[0m in \u001b[0;36m<module>\u001b[1;34m\u001b[0m\n\u001b[0;32m      3\u001b[0m \u001b[1;33m\u001b[0m\u001b[0m\n\u001b[0;32m      4\u001b[0m \u001b[1;32mwith\u001b[0m \u001b[0mzf\u001b[0m\u001b[1;33m.\u001b[0m\u001b[0mZipFile\u001b[0m\u001b[1;33m(\u001b[0m\u001b[0mzip_file\u001b[0m\u001b[1;33m,\u001b[0m \u001b[1;34m'w'\u001b[0m\u001b[1;33m,\u001b[0m \u001b[0mcompression\u001b[0m\u001b[1;33m=\u001b[0m\u001b[0mzf\u001b[0m\u001b[1;33m.\u001b[0m\u001b[0mZIP_DEFLATED\u001b[0m\u001b[1;33m)\u001b[0m \u001b[1;32mas\u001b[0m \u001b[0mzip_f\u001b[0m\u001b[1;33m:\u001b[0m\u001b[1;33m\u001b[0m\u001b[1;33m\u001b[0m\u001b[0m\n\u001b[1;32m----> 5\u001b[1;33m     \u001b[0mzip_f\u001b[0m\u001b[1;33m.\u001b[0m\u001b[0mwrite\u001b[0m\u001b[1;33m(\u001b[0m\u001b[1;34m'p_big'\u001b[0m\u001b[1;33m)\u001b[0m\u001b[1;33m\u001b[0m\u001b[1;33m\u001b[0m\u001b[0m\n\u001b[0m",
      "\u001b[1;32m~\\anaconda3\\lib\\zipfile.py\u001b[0m in \u001b[0;36mwrite\u001b[1;34m(self, filename, arcname, compress_type, compresslevel)\u001b[0m\n\u001b[0;32m   1739\u001b[0m             )\n\u001b[0;32m   1740\u001b[0m \u001b[1;33m\u001b[0m\u001b[0m\n\u001b[1;32m-> 1741\u001b[1;33m         zinfo = ZipInfo.from_file(filename, arcname,\n\u001b[0m\u001b[0;32m   1742\u001b[0m                                   strict_timestamps=self._strict_timestamps)\n\u001b[0;32m   1743\u001b[0m \u001b[1;33m\u001b[0m\u001b[0m\n",
      "\u001b[1;32m~\\anaconda3\\lib\\zipfile.py\u001b[0m in \u001b[0;36mfrom_file\u001b[1;34m(cls, filename, arcname, strict_timestamps)\u001b[0m\n\u001b[0;32m    521\u001b[0m         \u001b[1;32mif\u001b[0m \u001b[0misinstance\u001b[0m\u001b[1;33m(\u001b[0m\u001b[0mfilename\u001b[0m\u001b[1;33m,\u001b[0m \u001b[0mos\u001b[0m\u001b[1;33m.\u001b[0m\u001b[0mPathLike\u001b[0m\u001b[1;33m)\u001b[0m\u001b[1;33m:\u001b[0m\u001b[1;33m\u001b[0m\u001b[1;33m\u001b[0m\u001b[0m\n\u001b[0;32m    522\u001b[0m             \u001b[0mfilename\u001b[0m \u001b[1;33m=\u001b[0m \u001b[0mos\u001b[0m\u001b[1;33m.\u001b[0m\u001b[0mfspath\u001b[0m\u001b[1;33m(\u001b[0m\u001b[0mfilename\u001b[0m\u001b[1;33m)\u001b[0m\u001b[1;33m\u001b[0m\u001b[1;33m\u001b[0m\u001b[0m\n\u001b[1;32m--> 523\u001b[1;33m         \u001b[0mst\u001b[0m \u001b[1;33m=\u001b[0m \u001b[0mos\u001b[0m\u001b[1;33m.\u001b[0m\u001b[0mstat\u001b[0m\u001b[1;33m(\u001b[0m\u001b[0mfilename\u001b[0m\u001b[1;33m)\u001b[0m\u001b[1;33m\u001b[0m\u001b[1;33m\u001b[0m\u001b[0m\n\u001b[0m\u001b[0;32m    524\u001b[0m         \u001b[0misdir\u001b[0m \u001b[1;33m=\u001b[0m \u001b[0mstat\u001b[0m\u001b[1;33m.\u001b[0m\u001b[0mS_ISDIR\u001b[0m\u001b[1;33m(\u001b[0m\u001b[0mst\u001b[0m\u001b[1;33m.\u001b[0m\u001b[0mst_mode\u001b[0m\u001b[1;33m)\u001b[0m\u001b[1;33m\u001b[0m\u001b[1;33m\u001b[0m\u001b[0m\n\u001b[0;32m    525\u001b[0m         \u001b[0mmtime\u001b[0m \u001b[1;33m=\u001b[0m \u001b[0mtime\u001b[0m\u001b[1;33m.\u001b[0m\u001b[0mlocaltime\u001b[0m\u001b[1;33m(\u001b[0m\u001b[0mst\u001b[0m\u001b[1;33m.\u001b[0m\u001b[0mst_mtime\u001b[0m\u001b[1;33m)\u001b[0m\u001b[1;33m\u001b[0m\u001b[1;33m\u001b[0m\u001b[0m\n",
      "\u001b[1;31mFileNotFoundError\u001b[0m: [WinError 2] El sistema no puede encontrar el archivo especificado: 'p_big'"
     ]
    }
   ],
   "source": [
    "import zipfile as zf\n",
    "zip_file = 'files_folder/compressed_file.zip'\n",
    "\n",
    "with zf.ZipFile(zip_file, 'w', compression=zf.ZIP_DEFLATED) as zip_f:\n",
    "    zip_f.write('p_big')"
   ]
  },
  {
   "cell_type": "code",
   "execution_count": 17,
   "metadata": {},
   "outputs": [
    {
     "name": "stdout",
     "output_type": "stream",
     "text": [
      "page_id, name, urlslug, ID, ALIGN, EYE, HAIR, SEX, GSM, ALIVE, APPEARANCES, FIRST APPEARANCE, Year\n"
     ]
    }
   ],
   "source": [
    "import pandas as pd\n",
    "# Cargamos los datos del csv de Marvel en un dataframe de pandas\n",
    "data = pd.read_csv(\n",
    "    \"data/marvel-wikia-data.csv\", decimal=\",\", escapechar=\"\\\\\",\n",
    "    na_values=[\"dontknow\"],\n",
    "    converters={\"FIRST APPEARANCE\": lambda x: int(x.split(\"-\")[1])+1900},\n",
    "    skiprows=[31])\n",
    "\n",
    "# Obtenemos una cadena con la lista de columnas, que utilizaremos para crear\n",
    "# la tabla de la base de datos\n",
    "cols = \", \".join(data.columns)\n",
    "print(cols)"
   ]
  },
  {
   "cell_type": "code",
   "execution_count": 18,
   "metadata": {},
   "outputs": [
    {
     "name": "stdout",
     "output_type": "stream",
     "text": [
      "CREATE TABLE marvel_chars (page_id, name, urlslug, ID, ALIGN, EYE, HAIR, SEX, GSM, ALIVE, APPEARANCES, FIRST APPEARANCE, Year)\n"
     ]
    }
   ],
   "source": [
    "# Importamos SQLite3\n",
    "import sqlite3\n",
    "\n",
    "# Creamos una conexión con la base de datos marvel.db\n",
    "conn = sqlite3.connect('files_folder/marvel.db')\n",
    "\n",
    "# Obtenemos un cursor sobre la conexión\n",
    "cur = conn.cursor()\n",
    "\n",
    "# Creamos una tabla utilizando los nombres de las columnas del dataframe\n",
    "sql_create_stm = \"CREATE TABLE marvel_chars ({})\".format(cols)\n",
    "print(sql_create_stm)\n",
    "\n",
    "# Ejecutamos la sentencia SQL de creación de la tabla\n",
    "cur.execute(sql_create_stm)\n",
    "\n",
    "# Guardamos los cambios (hacemos un commit en la db)\n",
    "conn.commit()"
   ]
  },
  {
   "cell_type": "code",
   "execution_count": 19,
   "metadata": {},
   "outputs": [
    {
     "name": "stdout",
     "output_type": "stream",
     "text": [
      "[]\n"
     ]
    }
   ],
   "source": [
    "# Ejecutamos SELECT * sobre toda la tabla\n",
    "sql_sel_stm = \"SELECT * FROM marvel_chars\"\n",
    "cur.execute(sql_sel_stm)\n",
    "\n",
    "# Recuperamos los resultados\n",
    "results = cur.fetchall()\n",
    "\n",
    "# Mostramos los resultados: la tabla de la base de datos está vacía\n",
    "print(results)"
   ]
  },
  {
   "cell_type": "code",
   "execution_count": 20,
   "metadata": {},
   "outputs": [],
   "source": [
    "# Iteramos por cada fila de la tabla\n",
    "for index, row in data.iterrows():\n",
    "    # Insertamos los datos en la tabla marvel_chars\n",
    "    cur.execute(\"INSERT INTO marvel_chars VALUES \"\n",
    "                \"(?, ?, ?, ?, ?, ?, ?, ?, ?, ?, ?, ?, ?)\", row)\n",
    "\n",
    "# Hacemos un commit de los cambios\n",
    "conn.commit()"
   ]
  }
 ],
 "metadata": {
  "interpreter": {
   "hash": "e2d2328125dc028ab23d15038e69b72004ca5e7ee75dfcbc0ecf212b0f785d44"
  },
  "kernelspec": {
   "display_name": "Python 3.8.8 64-bit ('base': conda)",
   "language": "python",
   "name": "python3"
  },
  "language_info": {
   "codemirror_mode": {
    "name": "ipython",
    "version": 3
   },
   "file_extension": ".py",
   "mimetype": "text/x-python",
   "name": "python",
   "nbconvert_exporter": "python",
   "pygments_lexer": "ipython3",
   "version": "3.8.8"
  },
  "orig_nbformat": 4
 },
 "nbformat": 4,
 "nbformat_minor": 2
}
